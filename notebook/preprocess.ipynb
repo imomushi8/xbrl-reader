{
 "cells": [
  {
   "cell_type": "markdown",
   "metadata": {
    "colab_type": "text",
    "id": "view-in-github"
   },
   "source": [
    "<a href=\"https://colab.research.google.com/github/teatime77/xbrl-reader/blob/master/notebook/preprocess.ipynb\" target=\"_parent\"><img src=\"https://colab.research.google.com/assets/colab-badge.svg\" alt=\"Open In Colab\"/></a>"
   ]
  },
  {
   "cell_type": "markdown",
   "metadata": {
    "colab_type": "text",
    "id": "i5nu58R4uH2w"
   },
   "source": [
    "### データをダウンロードします。"
   ]
  },
  {
   "cell_type": "markdown",
   "metadata": {
    "colab_type": "text",
    "id": "jz4kD7tlSTvV"
   },
   "source": [
    "##### 会社情報をダウンロードします。"
   ]
  },
  {
   "cell_type": "code",
   "execution_count": 1,
   "metadata": {
    "colab": {},
    "colab_type": "code",
    "id": "efze9FkvSWNx"
   },
   "outputs": [
    {
     "name": "stderr",
     "output_type": "stream",
     "text": [
      "'wget' は、内部コマンドまたは外部コマンド、\n",
      "操作可能なプログラムまたはバッチ ファイルとして認識されていません。\n"
     ]
    }
   ],
   "source": [
    "! wget http://lkzf.info/xbrl/data/EdinetcodeDlInfo.csv"
   ]
  },
  {
   "cell_type": "markdown",
   "metadata": {
    "colab_type": "text",
    "id": "91QGOAdaP1ot"
   },
   "source": [
    "#### <font color=\"red\">以下の中から予測したい項目のコメントをはずしてください。</font>"
   ]
  },
  {
   "cell_type": "code",
   "execution_count": 2,
   "metadata": {
    "colab": {},
    "colab_type": "code",
    "id": "-gHGlhi7RVlH"
   },
   "outputs": [],
   "source": [
    "# target = '売上高'\n",
    "# target = '営業利益'\n",
    "#target = '経常利益'\n",
    "target = '税引前純利益'"
   ]
  },
  {
   "cell_type": "markdown",
   "metadata": {
    "colab_type": "text",
    "id": "PiTQqTsunzRu"
   },
   "source": [
    "### 必要なライブラリをインポートします。"
   ]
  },
  {
   "cell_type": "code",
   "execution_count": 3,
   "metadata": {
    "colab": {},
    "colab_type": "code",
    "id": "7AQVPohPn0Sm"
   },
   "outputs": [],
   "source": [
    "import pandas as pd\n",
    "import numpy as np"
   ]
  },
  {
   "cell_type": "markdown",
   "metadata": {
    "colab_type": "text",
    "id": "ejKX1APCuXFr"
   },
   "source": [
    "### CSVファイルの読み込みの関数"
   ]
  },
  {
   "cell_type": "code",
   "execution_count": 4,
   "metadata": {
    "colab": {},
    "colab_type": "code",
    "id": "Ojm9RUWMU387"
   },
   "outputs": [],
   "source": [
    "def my_read_csv(filename, date_columns=[]):\n",
    "    \"\"\" How to force pandas read_csv to use float32 for all float columns?\n",
    "    https://stackoverflow.com/questions/30494569/how-to-force-pandas-read-csv-to-use-float32-for-all-float-columns\n",
    "    \"\"\"\n",
    "\n",
    "    # 最初の100行のみ試しに読んでみる。\n",
    "    df_test = pd.read_csv(filename, nrows=100, parse_dates=date_columns)\n",
    "\n",
    "    # float64の列の名前\n",
    "    float_cols = [c for c in df_test if df_test[c].dtype == \"float64\"]\n",
    "\n",
    "    # 型をfloat32として宣言する。\n",
    "    float32_cols = {c: np.float32 for c in float_cols}\n",
    "\n",
    "    # 型の宣言を使ってCSVファイルを読み直す。\n",
    "    return pd.read_csv(filename, engine='c', dtype=float32_cols, parse_dates=date_columns)"
   ]
  },
  {
   "cell_type": "markdown",
   "metadata": {
    "colab_type": "text",
    "id": "13sfOLshQl9O"
   },
   "source": [
    "### 決算書のCSVファイルを読み込みます。"
   ]
  },
  {
   "cell_type": "code",
   "execution_count": 5,
   "metadata": {
    "colab": {},
    "colab_type": "code",
    "id": "piryLNow_nrG"
   },
   "outputs": [
    {
     "name": "stdout",
     "output_type": "stream",
     "text": [
      "read 提出日時点 ...\n",
      "read 時点 ...\n",
      "read 期間 ...\n"
     ]
    }
   ],
   "source": [
    "print(\"read 提出日時点 ...\")\n",
    "df提出日時点 = my_read_csv(\"../python/data/summary-0.csv\", [ '会計期間終了日' ])\n",
    "print(\"read 時点 ...\")\n",
    "df時点 = my_read_csv(\"../python/data/summary-1.csv\")\n",
    "print(\"read 期間 ...\")\n",
    "df期間 = my_read_csv(\"../python/data/summary-2.csv\")"
   ]
  },
  {
   "cell_type": "code",
   "execution_count": 6,
   "metadata": {},
   "outputs": [
    {
     "data": {
      "text/html": [
       "<div>\n",
       "<style scoped>\n",
       "    .dataframe tbody tr th:only-of-type {\n",
       "        vertical-align: middle;\n",
       "    }\n",
       "\n",
       "    .dataframe tbody tr th {\n",
       "        vertical-align: top;\n",
       "    }\n",
       "\n",
       "    .dataframe thead th {\n",
       "        text-align: right;\n",
       "    }\n",
       "</style>\n",
       "<table border=\"1\" class=\"dataframe\">\n",
       "  <thead>\n",
       "    <tr style=\"text-align: right;\">\n",
       "      <th></th>\n",
       "      <th>EDINETコード</th>\n",
       "      <th>会計期間終了日</th>\n",
       "      <th>報告書略号</th>\n",
       "      <th>提出日</th>\n",
       "      <th>証券コード</th>\n",
       "      <th>事業年度</th>\n",
       "      <th>当事業年度開始日</th>\n",
       "      <th>当事業年度終了日</th>\n",
       "      <th>会計基準</th>\n",
       "      <th>連結決算の有無</th>\n",
       "    </tr>\n",
       "  </thead>\n",
       "  <tbody>\n",
       "    <tr>\n",
       "      <th>0</th>\n",
       "      <td>E00232</td>\n",
       "      <td>2021-09-30</td>\n",
       "      <td>q2r</td>\n",
       "      <td>2021-11-15</td>\n",
       "      <td>19050</td>\n",
       "      <td>NaN</td>\n",
       "      <td>2021-04-01</td>\n",
       "      <td>2022-03-31</td>\n",
       "      <td>Japan GAAP</td>\n",
       "      <td>True</td>\n",
       "    </tr>\n",
       "    <tr>\n",
       "      <th>1</th>\n",
       "      <td>E00600</td>\n",
       "      <td>2021-08-31</td>\n",
       "      <td>asr</td>\n",
       "      <td>2021-11-22</td>\n",
       "      <td>81270</td>\n",
       "      <td>第75期（自　2020年９月１日　至　2021年８月31日）</td>\n",
       "      <td>2020-09-01</td>\n",
       "      <td>2021-08-31</td>\n",
       "      <td>Japan GAAP</td>\n",
       "      <td>True</td>\n",
       "    </tr>\n",
       "    <tr>\n",
       "      <th>2</th>\n",
       "      <td>E01064</td>\n",
       "      <td>2021-08-31</td>\n",
       "      <td>asr</td>\n",
       "      <td>2021-11-25</td>\n",
       "      <td>29270</td>\n",
       "      <td>第41期（自  2020年９月１日  至  2021年８月31日）</td>\n",
       "      <td>2020-09-01</td>\n",
       "      <td>2021-08-31</td>\n",
       "      <td>Japan GAAP</td>\n",
       "      <td>True</td>\n",
       "    </tr>\n",
       "    <tr>\n",
       "      <th>3</th>\n",
       "      <td>E02760</td>\n",
       "      <td>2021-09-30</td>\n",
       "      <td>q2r</td>\n",
       "      <td>2021-11-15</td>\n",
       "      <td>99320</td>\n",
       "      <td>NaN</td>\n",
       "      <td>2021-04-01</td>\n",
       "      <td>2022-03-31</td>\n",
       "      <td>Japan GAAP</td>\n",
       "      <td>True</td>\n",
       "    </tr>\n",
       "    <tr>\n",
       "      <th>4</th>\n",
       "      <td>E02896</td>\n",
       "      <td>2021-08-31</td>\n",
       "      <td>asr</td>\n",
       "      <td>2021-11-19</td>\n",
       "      <td>76070</td>\n",
       "      <td>第71期(自　2020年９月１日　至　2021年８月31日)</td>\n",
       "      <td>2020-09-01</td>\n",
       "      <td>2021-08-31</td>\n",
       "      <td>Japan GAAP</td>\n",
       "      <td>True</td>\n",
       "    </tr>\n",
       "    <tr>\n",
       "      <th>...</th>\n",
       "      <td>...</td>\n",
       "      <td>...</td>\n",
       "      <td>...</td>\n",
       "      <td>...</td>\n",
       "      <td>...</td>\n",
       "      <td>...</td>\n",
       "      <td>...</td>\n",
       "      <td>...</td>\n",
       "      <td>...</td>\n",
       "      <td>...</td>\n",
       "    </tr>\n",
       "    <tr>\n",
       "      <th>100</th>\n",
       "      <td>E30999</td>\n",
       "      <td>2021-08-31</td>\n",
       "      <td>asr</td>\n",
       "      <td>2021-11-26</td>\n",
       "      <td>60250</td>\n",
       "      <td>第20期（自　2020年９月１日　至　2021年８月31日）</td>\n",
       "      <td>2020-09-01</td>\n",
       "      <td>2021-08-31</td>\n",
       "      <td>Japan GAAP</td>\n",
       "      <td>True</td>\n",
       "    </tr>\n",
       "    <tr>\n",
       "      <th>101</th>\n",
       "      <td>E31743</td>\n",
       "      <td>2021-08-31</td>\n",
       "      <td>asr</td>\n",
       "      <td>2021-11-26</td>\n",
       "      <td>70650</td>\n",
       "      <td>第43期（自　2020年９月１日　至　2021年８月31日）</td>\n",
       "      <td>2020-09-01</td>\n",
       "      <td>2021-08-31</td>\n",
       "      <td>Japan GAAP</td>\n",
       "      <td>True</td>\n",
       "    </tr>\n",
       "    <tr>\n",
       "      <th>102</th>\n",
       "      <td>E32351</td>\n",
       "      <td>2021-08-31</td>\n",
       "      <td>asr</td>\n",
       "      <td>2021-11-30</td>\n",
       "      <td>35410</td>\n",
       "      <td>第15期（自　2020年９月１日　至　2021年８月31日）</td>\n",
       "      <td>2020-09-01</td>\n",
       "      <td>2021-08-31</td>\n",
       "      <td>Japan GAAP</td>\n",
       "      <td>False</td>\n",
       "    </tr>\n",
       "    <tr>\n",
       "      <th>103</th>\n",
       "      <td>E32991</td>\n",
       "      <td>2021-08-31</td>\n",
       "      <td>asr</td>\n",
       "      <td>2021-11-22</td>\n",
       "      <td>35600</td>\n",
       "      <td>第43期(自　2020年９月１日　至　2021年８月31日)</td>\n",
       "      <td>2020-09-01</td>\n",
       "      <td>2021-08-31</td>\n",
       "      <td>Japan GAAP</td>\n",
       "      <td>False</td>\n",
       "    </tr>\n",
       "    <tr>\n",
       "      <th>104</th>\n",
       "      <td>E33807</td>\n",
       "      <td>2021-08-31</td>\n",
       "      <td>asr</td>\n",
       "      <td>2021-11-25</td>\n",
       "      <td>92700</td>\n",
       "      <td>第10期(自　2020年９月１日　至　2021年８月31日)</td>\n",
       "      <td>2020-09-01</td>\n",
       "      <td>2021-08-31</td>\n",
       "      <td>Japan GAAP</td>\n",
       "      <td>True</td>\n",
       "    </tr>\n",
       "  </tbody>\n",
       "</table>\n",
       "<p>105 rows × 10 columns</p>\n",
       "</div>"
      ],
      "text/plain": [
       "    EDINETコード    会計期間終了日 報告書略号         提出日  証券コード  \\\n",
       "0      E00232 2021-09-30   q2r  2021-11-15  19050   \n",
       "1      E00600 2021-08-31   asr  2021-11-22  81270   \n",
       "2      E01064 2021-08-31   asr  2021-11-25  29270   \n",
       "3      E02760 2021-09-30   q2r  2021-11-15  99320   \n",
       "4      E02896 2021-08-31   asr  2021-11-19  76070   \n",
       "..        ...        ...   ...         ...    ...   \n",
       "100    E30999 2021-08-31   asr  2021-11-26  60250   \n",
       "101    E31743 2021-08-31   asr  2021-11-26  70650   \n",
       "102    E32351 2021-08-31   asr  2021-11-30  35410   \n",
       "103    E32991 2021-08-31   asr  2021-11-22  35600   \n",
       "104    E33807 2021-08-31   asr  2021-11-25  92700   \n",
       "\n",
       "                                  事業年度    当事業年度開始日    当事業年度終了日        会計基準  \\\n",
       "0                                  NaN  2021-04-01  2022-03-31  Japan GAAP   \n",
       "1       第75期（自　2020年９月１日　至　2021年８月31日）  2020-09-01  2021-08-31  Japan GAAP   \n",
       "2    第41期（自  2020年９月１日  至  2021年８月31日）  2020-09-01  2021-08-31  Japan GAAP   \n",
       "3                                  NaN  2021-04-01  2022-03-31  Japan GAAP   \n",
       "4       第71期(自　2020年９月１日　至　2021年８月31日)  2020-09-01  2021-08-31  Japan GAAP   \n",
       "..                                 ...         ...         ...         ...   \n",
       "100     第20期（自　2020年９月１日　至　2021年８月31日）  2020-09-01  2021-08-31  Japan GAAP   \n",
       "101     第43期（自　2020年９月１日　至　2021年８月31日）  2020-09-01  2021-08-31  Japan GAAP   \n",
       "102     第15期（自　2020年９月１日　至　2021年８月31日）  2020-09-01  2021-08-31  Japan GAAP   \n",
       "103     第43期(自　2020年９月１日　至　2021年８月31日)  2020-09-01  2021-08-31  Japan GAAP   \n",
       "104     第10期(自　2020年９月１日　至　2021年８月31日)  2020-09-01  2021-08-31  Japan GAAP   \n",
       "\n",
       "     連結決算の有無  \n",
       "0       True  \n",
       "1       True  \n",
       "2       True  \n",
       "3       True  \n",
       "4       True  \n",
       "..       ...  \n",
       "100     True  \n",
       "101     True  \n",
       "102    False  \n",
       "103    False  \n",
       "104     True  \n",
       "\n",
       "[105 rows x 10 columns]"
      ]
     },
     "execution_count": 6,
     "metadata": {},
     "output_type": "execute_result"
    }
   ],
   "source": [
    "df提出日時点"
   ]
  },
  {
   "cell_type": "code",
   "execution_count": 7,
   "metadata": {},
   "outputs": [
    {
     "data": {
      "text/html": [
       "<div>\n",
       "<style scoped>\n",
       "    .dataframe tbody tr th:only-of-type {\n",
       "        vertical-align: middle;\n",
       "    }\n",
       "\n",
       "    .dataframe tbody tr th {\n",
       "        vertical-align: top;\n",
       "    }\n",
       "\n",
       "    .dataframe thead th {\n",
       "        text-align: right;\n",
       "    }\n",
       "</style>\n",
       "<table border=\"1\" class=\"dataframe\">\n",
       "  <thead>\n",
       "    <tr style=\"text-align: right;\">\n",
       "      <th></th>\n",
       "      <th>EDINETコード</th>\n",
       "      <th>会計期間終了日</th>\n",
       "      <th>報告書略号</th>\n",
       "      <th>コンテキスト</th>\n",
       "      <th>従業員数</th>\n",
       "      <th>平均臨時雇用人員</th>\n",
       "      <th>平均年齢（年）</th>\n",
       "      <th>平均勤続年数（年）</th>\n",
       "      <th>平均年間給与</th>\n",
       "      <th>所有株式数</th>\n",
       "      <th>...</th>\n",
       "      <th>転換社債型新株予約権付社債</th>\n",
       "      <th>コマーシャル・ペーパー</th>\n",
       "      <th>長期借入金</th>\n",
       "      <th>純資産</th>\n",
       "      <th>株主資本</th>\n",
       "      <th>資本金</th>\n",
       "      <th>資本剰余金</th>\n",
       "      <th>利益剰余金</th>\n",
       "      <th>自己株式</th>\n",
       "      <th>評価・換算差額等</th>\n",
       "    </tr>\n",
       "  </thead>\n",
       "  <tbody>\n",
       "    <tr>\n",
       "      <th>0</th>\n",
       "      <td>E00232</td>\n",
       "      <td>2021-09-30</td>\n",
       "      <td>q2r</td>\n",
       "      <td>当四半期会計期間連結時点</td>\n",
       "      <td>NaN</td>\n",
       "      <td>NaN</td>\n",
       "      <td>NaN</td>\n",
       "      <td>NaN</td>\n",
       "      <td>NaN</td>\n",
       "      <td>2861000.0</td>\n",
       "      <td>...</td>\n",
       "      <td>NaN</td>\n",
       "      <td>NaN</td>\n",
       "      <td>29820000.0</td>\n",
       "      <td>1.207091e+10</td>\n",
       "      <td>1.168045e+10</td>\n",
       "      <td>1.710900e+09</td>\n",
       "      <td>2.447772e+09</td>\n",
       "      <td>8.153326e+09</td>\n",
       "      <td>-631545984.0</td>\n",
       "      <td>20410000.0</td>\n",
       "    </tr>\n",
       "    <tr>\n",
       "      <th>1</th>\n",
       "      <td>E00232</td>\n",
       "      <td>2021-09-30</td>\n",
       "      <td>q2r</td>\n",
       "      <td>前期連結時点</td>\n",
       "      <td>NaN</td>\n",
       "      <td>NaN</td>\n",
       "      <td>NaN</td>\n",
       "      <td>NaN</td>\n",
       "      <td>NaN</td>\n",
       "      <td>NaN</td>\n",
       "      <td>...</td>\n",
       "      <td>NaN</td>\n",
       "      <td>NaN</td>\n",
       "      <td>192924000.0</td>\n",
       "      <td>1.221563e+10</td>\n",
       "      <td>1.178495e+10</td>\n",
       "      <td>1.710900e+09</td>\n",
       "      <td>2.397716e+09</td>\n",
       "      <td>8.187745e+09</td>\n",
       "      <td>-511409984.0</td>\n",
       "      <td>42496000.0</td>\n",
       "    </tr>\n",
       "    <tr>\n",
       "      <th>2</th>\n",
       "      <td>E00600</td>\n",
       "      <td>2021-08-31</td>\n",
       "      <td>asr</td>\n",
       "      <td>当期連結時点</td>\n",
       "      <td>194.0</td>\n",
       "      <td>1103.0</td>\n",
       "      <td>NaN</td>\n",
       "      <td>NaN</td>\n",
       "      <td>NaN</td>\n",
       "      <td>7503000.0</td>\n",
       "      <td>...</td>\n",
       "      <td>NaN</td>\n",
       "      <td>NaN</td>\n",
       "      <td>398169984.0</td>\n",
       "      <td>1.594762e+10</td>\n",
       "      <td>1.530623e+10</td>\n",
       "      <td>4.917652e+09</td>\n",
       "      <td>4.988692e+09</td>\n",
       "      <td>5.763798e+09</td>\n",
       "      <td>-363913984.0</td>\n",
       "      <td>641388032.0</td>\n",
       "    </tr>\n",
       "    <tr>\n",
       "      <th>3</th>\n",
       "      <td>E00600</td>\n",
       "      <td>2021-08-31</td>\n",
       "      <td>asr</td>\n",
       "      <td>前期連結時点</td>\n",
       "      <td>195.0</td>\n",
       "      <td>1134.0</td>\n",
       "      <td>NaN</td>\n",
       "      <td>NaN</td>\n",
       "      <td>NaN</td>\n",
       "      <td>NaN</td>\n",
       "      <td>...</td>\n",
       "      <td>NaN</td>\n",
       "      <td>NaN</td>\n",
       "      <td>618212992.0</td>\n",
       "      <td>1.579956e+10</td>\n",
       "      <td>1.539904e+10</td>\n",
       "      <td>4.917652e+09</td>\n",
       "      <td>4.988692e+09</td>\n",
       "      <td>5.856433e+09</td>\n",
       "      <td>-363732992.0</td>\n",
       "      <td>400516000.0</td>\n",
       "    </tr>\n",
       "    <tr>\n",
       "      <th>4</th>\n",
       "      <td>E00600</td>\n",
       "      <td>2021-08-31</td>\n",
       "      <td>asr</td>\n",
       "      <td>当期個別時点</td>\n",
       "      <td>183.0</td>\n",
       "      <td>1074.0</td>\n",
       "      <td>43.799999</td>\n",
       "      <td>19.6</td>\n",
       "      <td>5532925.0</td>\n",
       "      <td>NaN</td>\n",
       "      <td>...</td>\n",
       "      <td>NaN</td>\n",
       "      <td>NaN</td>\n",
       "      <td>398169984.0</td>\n",
       "      <td>1.564136e+10</td>\n",
       "      <td>1.505070e+10</td>\n",
       "      <td>4.917652e+09</td>\n",
       "      <td>4.988692e+09</td>\n",
       "      <td>5.508269e+09</td>\n",
       "      <td>-363913984.0</td>\n",
       "      <td>590659968.0</td>\n",
       "    </tr>\n",
       "    <tr>\n",
       "      <th>...</th>\n",
       "      <td>...</td>\n",
       "      <td>...</td>\n",
       "      <td>...</td>\n",
       "      <td>...</td>\n",
       "      <td>...</td>\n",
       "      <td>...</td>\n",
       "      <td>...</td>\n",
       "      <td>...</td>\n",
       "      <td>...</td>\n",
       "      <td>...</td>\n",
       "      <td>...</td>\n",
       "      <td>...</td>\n",
       "      <td>...</td>\n",
       "      <td>...</td>\n",
       "      <td>...</td>\n",
       "      <td>...</td>\n",
       "      <td>...</td>\n",
       "      <td>...</td>\n",
       "      <td>...</td>\n",
       "      <td>...</td>\n",
       "      <td>...</td>\n",
       "    </tr>\n",
       "    <tr>\n",
       "      <th>343</th>\n",
       "      <td>E32991</td>\n",
       "      <td>2021-08-31</td>\n",
       "      <td>asr</td>\n",
       "      <td>前期個別時点</td>\n",
       "      <td>105.0</td>\n",
       "      <td>29.0</td>\n",
       "      <td>NaN</td>\n",
       "      <td>NaN</td>\n",
       "      <td>NaN</td>\n",
       "      <td>NaN</td>\n",
       "      <td>...</td>\n",
       "      <td>NaN</td>\n",
       "      <td>NaN</td>\n",
       "      <td>NaN</td>\n",
       "      <td>3.724891e+09</td>\n",
       "      <td>3.590544e+09</td>\n",
       "      <td>3.499980e+08</td>\n",
       "      <td>3.399980e+08</td>\n",
       "      <td>2.901516e+09</td>\n",
       "      <td>-969000.0</td>\n",
       "      <td>134346000.0</td>\n",
       "    </tr>\n",
       "    <tr>\n",
       "      <th>344</th>\n",
       "      <td>E33807</td>\n",
       "      <td>2021-08-31</td>\n",
       "      <td>asr</td>\n",
       "      <td>当期連結時点</td>\n",
       "      <td>873.0</td>\n",
       "      <td>127.0</td>\n",
       "      <td>NaN</td>\n",
       "      <td>NaN</td>\n",
       "      <td>NaN</td>\n",
       "      <td>11533000.0</td>\n",
       "      <td>...</td>\n",
       "      <td>NaN</td>\n",
       "      <td>NaN</td>\n",
       "      <td>211250000.0</td>\n",
       "      <td>7.270051e+09</td>\n",
       "      <td>7.090178e+09</td>\n",
       "      <td>1.144576e+09</td>\n",
       "      <td>1.180011e+09</td>\n",
       "      <td>4.978670e+09</td>\n",
       "      <td>-213079008.0</td>\n",
       "      <td>25435000.0</td>\n",
       "    </tr>\n",
       "    <tr>\n",
       "      <th>345</th>\n",
       "      <td>E33807</td>\n",
       "      <td>2021-08-31</td>\n",
       "      <td>asr</td>\n",
       "      <td>前期連結時点</td>\n",
       "      <td>587.0</td>\n",
       "      <td>150.0</td>\n",
       "      <td>NaN</td>\n",
       "      <td>NaN</td>\n",
       "      <td>NaN</td>\n",
       "      <td>NaN</td>\n",
       "      <td>...</td>\n",
       "      <td>NaN</td>\n",
       "      <td>NaN</td>\n",
       "      <td>340868000.0</td>\n",
       "      <td>6.735904e+09</td>\n",
       "      <td>6.743900e+09</td>\n",
       "      <td>1.117032e+09</td>\n",
       "      <td>1.104809e+09</td>\n",
       "      <td>4.581888e+09</td>\n",
       "      <td>-59830000.0</td>\n",
       "      <td>-7995000.0</td>\n",
       "    </tr>\n",
       "    <tr>\n",
       "      <th>346</th>\n",
       "      <td>E33807</td>\n",
       "      <td>2021-08-31</td>\n",
       "      <td>asr</td>\n",
       "      <td>当期個別時点</td>\n",
       "      <td>88.0</td>\n",
       "      <td>9.0</td>\n",
       "      <td>38.299999</td>\n",
       "      <td>3.0</td>\n",
       "      <td>6084000.0</td>\n",
       "      <td>NaN</td>\n",
       "      <td>...</td>\n",
       "      <td>NaN</td>\n",
       "      <td>NaN</td>\n",
       "      <td>NaN</td>\n",
       "      <td>6.275695e+09</td>\n",
       "      <td>6.121258e+09</td>\n",
       "      <td>1.144576e+09</td>\n",
       "      <td>1.182231e+09</td>\n",
       "      <td>4.007530e+09</td>\n",
       "      <td>-213079008.0</td>\n",
       "      <td>NaN</td>\n",
       "    </tr>\n",
       "    <tr>\n",
       "      <th>347</th>\n",
       "      <td>E33807</td>\n",
       "      <td>2021-08-31</td>\n",
       "      <td>asr</td>\n",
       "      <td>前期個別時点</td>\n",
       "      <td>59.0</td>\n",
       "      <td>13.0</td>\n",
       "      <td>NaN</td>\n",
       "      <td>NaN</td>\n",
       "      <td>NaN</td>\n",
       "      <td>NaN</td>\n",
       "      <td>...</td>\n",
       "      <td>NaN</td>\n",
       "      <td>NaN</td>\n",
       "      <td>86018000.0</td>\n",
       "      <td>6.801373e+09</td>\n",
       "      <td>6.801373e+09</td>\n",
       "      <td>1.117032e+09</td>\n",
       "      <td>1.107029e+09</td>\n",
       "      <td>4.637142e+09</td>\n",
       "      <td>-59830000.0</td>\n",
       "      <td>NaN</td>\n",
       "    </tr>\n",
       "  </tbody>\n",
       "</table>\n",
       "<p>348 rows × 39 columns</p>\n",
       "</div>"
      ],
      "text/plain": [
       "    EDINETコード     会計期間終了日 報告書略号        コンテキスト   従業員数  平均臨時雇用人員    平均年齢（年）  \\\n",
       "0      E00232  2021-09-30   q2r  当四半期会計期間連結時点    NaN       NaN        NaN   \n",
       "1      E00232  2021-09-30   q2r        前期連結時点    NaN       NaN        NaN   \n",
       "2      E00600  2021-08-31   asr        当期連結時点  194.0    1103.0        NaN   \n",
       "3      E00600  2021-08-31   asr        前期連結時点  195.0    1134.0        NaN   \n",
       "4      E00600  2021-08-31   asr        当期個別時点  183.0    1074.0  43.799999   \n",
       "..        ...         ...   ...           ...    ...       ...        ...   \n",
       "343    E32991  2021-08-31   asr        前期個別時点  105.0      29.0        NaN   \n",
       "344    E33807  2021-08-31   asr        当期連結時点  873.0     127.0        NaN   \n",
       "345    E33807  2021-08-31   asr        前期連結時点  587.0     150.0        NaN   \n",
       "346    E33807  2021-08-31   asr        当期個別時点   88.0       9.0  38.299999   \n",
       "347    E33807  2021-08-31   asr        前期個別時点   59.0      13.0        NaN   \n",
       "\n",
       "     平均勤続年数（年）     平均年間給与       所有株式数  ...  転換社債型新株予約権付社債  コマーシャル・ペーパー  \\\n",
       "0          NaN        NaN   2861000.0  ...            NaN          NaN   \n",
       "1          NaN        NaN         NaN  ...            NaN          NaN   \n",
       "2          NaN        NaN   7503000.0  ...            NaN          NaN   \n",
       "3          NaN        NaN         NaN  ...            NaN          NaN   \n",
       "4         19.6  5532925.0         NaN  ...            NaN          NaN   \n",
       "..         ...        ...         ...  ...            ...          ...   \n",
       "343        NaN        NaN         NaN  ...            NaN          NaN   \n",
       "344        NaN        NaN  11533000.0  ...            NaN          NaN   \n",
       "345        NaN        NaN         NaN  ...            NaN          NaN   \n",
       "346        3.0  6084000.0         NaN  ...            NaN          NaN   \n",
       "347        NaN        NaN         NaN  ...            NaN          NaN   \n",
       "\n",
       "           長期借入金           純資産          株主資本           資本金         資本剰余金  \\\n",
       "0     29820000.0  1.207091e+10  1.168045e+10  1.710900e+09  2.447772e+09   \n",
       "1    192924000.0  1.221563e+10  1.178495e+10  1.710900e+09  2.397716e+09   \n",
       "2    398169984.0  1.594762e+10  1.530623e+10  4.917652e+09  4.988692e+09   \n",
       "3    618212992.0  1.579956e+10  1.539904e+10  4.917652e+09  4.988692e+09   \n",
       "4    398169984.0  1.564136e+10  1.505070e+10  4.917652e+09  4.988692e+09   \n",
       "..           ...           ...           ...           ...           ...   \n",
       "343          NaN  3.724891e+09  3.590544e+09  3.499980e+08  3.399980e+08   \n",
       "344  211250000.0  7.270051e+09  7.090178e+09  1.144576e+09  1.180011e+09   \n",
       "345  340868000.0  6.735904e+09  6.743900e+09  1.117032e+09  1.104809e+09   \n",
       "346          NaN  6.275695e+09  6.121258e+09  1.144576e+09  1.182231e+09   \n",
       "347   86018000.0  6.801373e+09  6.801373e+09  1.117032e+09  1.107029e+09   \n",
       "\n",
       "            利益剰余金         自己株式     評価・換算差額等  \n",
       "0    8.153326e+09 -631545984.0   20410000.0  \n",
       "1    8.187745e+09 -511409984.0   42496000.0  \n",
       "2    5.763798e+09 -363913984.0  641388032.0  \n",
       "3    5.856433e+09 -363732992.0  400516000.0  \n",
       "4    5.508269e+09 -363913984.0  590659968.0  \n",
       "..            ...          ...          ...  \n",
       "343  2.901516e+09    -969000.0  134346000.0  \n",
       "344  4.978670e+09 -213079008.0   25435000.0  \n",
       "345  4.581888e+09  -59830000.0   -7995000.0  \n",
       "346  4.007530e+09 -213079008.0          NaN  \n",
       "347  4.637142e+09  -59830000.0          NaN  \n",
       "\n",
       "[348 rows x 39 columns]"
      ]
     },
     "execution_count": 7,
     "metadata": {},
     "output_type": "execute_result"
    }
   ],
   "source": [
    "df時点"
   ]
  },
  {
   "cell_type": "code",
   "execution_count": 8,
   "metadata": {},
   "outputs": [
    {
     "data": {
      "text/html": [
       "<div>\n",
       "<style scoped>\n",
       "    .dataframe tbody tr th:only-of-type {\n",
       "        vertical-align: middle;\n",
       "    }\n",
       "\n",
       "    .dataframe tbody tr th {\n",
       "        vertical-align: top;\n",
       "    }\n",
       "\n",
       "    .dataframe thead th {\n",
       "        text-align: right;\n",
       "    }\n",
       "</style>\n",
       "<table border=\"1\" class=\"dataframe\">\n",
       "  <thead>\n",
       "    <tr style=\"text-align: right;\">\n",
       "      <th></th>\n",
       "      <th>EDINETコード</th>\n",
       "      <th>会計期間終了日</th>\n",
       "      <th>報告書略号</th>\n",
       "      <th>コンテキスト</th>\n",
       "      <th>売上高</th>\n",
       "      <th>売上原価</th>\n",
       "      <th>売上総利益又は売上総損失（△）</th>\n",
       "      <th>販売費及び一般管理費</th>\n",
       "      <th>給料及び手当</th>\n",
       "      <th>減価償却費、販売費及び一般管理費</th>\n",
       "      <th>...</th>\n",
       "      <th>１株当たり当期純利益又は当期純損失（△）</th>\n",
       "      <th>潜在株式調整後1株当たり当期純利益</th>\n",
       "      <th>１株当たり配当額</th>\n",
       "      <th>株価収益率</th>\n",
       "      <th>自己資本利益率</th>\n",
       "      <th>営業活動によるキャッシュ・フロー</th>\n",
       "      <th>減価償却費、営業活動によるキャッシュ・フロー</th>\n",
       "      <th>投資活動によるキャッシュ・フロー</th>\n",
       "      <th>財務活動によるキャッシュ・フロー</th>\n",
       "      <th>現金及び現金同等物の増減額（△は減少）</th>\n",
       "    </tr>\n",
       "  </thead>\n",
       "  <tbody>\n",
       "    <tr>\n",
       "      <th>0</th>\n",
       "      <td>E00232</td>\n",
       "      <td>2021-09-30</td>\n",
       "      <td>q2r</td>\n",
       "      <td>当四半期累計期間連結期間</td>\n",
       "      <td>6.838049e+09</td>\n",
       "      <td>5.843014e+09</td>\n",
       "      <td>9.950340e+08</td>\n",
       "      <td>9.465440e+08</td>\n",
       "      <td>NaN</td>\n",
       "      <td>NaN</td>\n",
       "      <td>...</td>\n",
       "      <td>9.210000</td>\n",
       "      <td>9.020000</td>\n",
       "      <td>NaN</td>\n",
       "      <td>NaN</td>\n",
       "      <td>NaN</td>\n",
       "      <td>5.411160e+08</td>\n",
       "      <td>239996000.0</td>\n",
       "      <td>-7.858500e+07</td>\n",
       "      <td>-4.137300e+08</td>\n",
       "      <td>5.098800e+07</td>\n",
       "    </tr>\n",
       "    <tr>\n",
       "      <th>1</th>\n",
       "      <td>E00232</td>\n",
       "      <td>2021-09-30</td>\n",
       "      <td>q2r</td>\n",
       "      <td>前年度同四半期累計期間連結期間</td>\n",
       "      <td>7.205688e+09</td>\n",
       "      <td>6.309120e+09</td>\n",
       "      <td>8.965680e+08</td>\n",
       "      <td>8.798070e+08</td>\n",
       "      <td>NaN</td>\n",
       "      <td>NaN</td>\n",
       "      <td>...</td>\n",
       "      <td>6.560000</td>\n",
       "      <td>6.440000</td>\n",
       "      <td>NaN</td>\n",
       "      <td>NaN</td>\n",
       "      <td>NaN</td>\n",
       "      <td>-5.058200e+08</td>\n",
       "      <td>265623008.0</td>\n",
       "      <td>-3.099050e+08</td>\n",
       "      <td>-1.191960e+08</td>\n",
       "      <td>-9.349130e+08</td>\n",
       "    </tr>\n",
       "    <tr>\n",
       "      <th>2</th>\n",
       "      <td>E00600</td>\n",
       "      <td>2021-08-31</td>\n",
       "      <td>asr</td>\n",
       "      <td>当期連結期間</td>\n",
       "      <td>1.369117e+10</td>\n",
       "      <td>7.551287e+09</td>\n",
       "      <td>6.139881e+09</td>\n",
       "      <td>6.505332e+09</td>\n",
       "      <td>NaN</td>\n",
       "      <td>141308000.0</td>\n",
       "      <td>...</td>\n",
       "      <td>1.490000</td>\n",
       "      <td>NaN</td>\n",
       "      <td>NaN</td>\n",
       "      <td>218.500000</td>\n",
       "      <td>0.0020</td>\n",
       "      <td>7.592530e+08</td>\n",
       "      <td>177250000.0</td>\n",
       "      <td>5.732900e+07</td>\n",
       "      <td>-3.003510e+08</td>\n",
       "      <td>5.162420e+08</td>\n",
       "    </tr>\n",
       "    <tr>\n",
       "      <th>3</th>\n",
       "      <td>E00600</td>\n",
       "      <td>2021-08-31</td>\n",
       "      <td>asr</td>\n",
       "      <td>前期連結期間</td>\n",
       "      <td>1.425239e+10</td>\n",
       "      <td>8.250738e+09</td>\n",
       "      <td>6.001647e+09</td>\n",
       "      <td>6.929572e+09</td>\n",
       "      <td>NaN</td>\n",
       "      <td>185822000.0</td>\n",
       "      <td>...</td>\n",
       "      <td>-63.049999</td>\n",
       "      <td>NaN</td>\n",
       "      <td>NaN</td>\n",
       "      <td>NaN</td>\n",
       "      <td>NaN</td>\n",
       "      <td>-1.485234e+09</td>\n",
       "      <td>222852992.0</td>\n",
       "      <td>-1.687590e+08</td>\n",
       "      <td>-5.363930e+08</td>\n",
       "      <td>-2.191246e+09</td>\n",
       "    </tr>\n",
       "    <tr>\n",
       "      <th>4</th>\n",
       "      <td>E00600</td>\n",
       "      <td>2021-08-31</td>\n",
       "      <td>asr</td>\n",
       "      <td>当期個別期間</td>\n",
       "      <td>1.369117e+10</td>\n",
       "      <td>7.551287e+09</td>\n",
       "      <td>6.139881e+09</td>\n",
       "      <td>6.574552e+09</td>\n",
       "      <td>NaN</td>\n",
       "      <td>141260992.0</td>\n",
       "      <td>...</td>\n",
       "      <td>-0.530000</td>\n",
       "      <td>NaN</td>\n",
       "      <td>5.0</td>\n",
       "      <td>NaN</td>\n",
       "      <td>NaN</td>\n",
       "      <td>NaN</td>\n",
       "      <td>NaN</td>\n",
       "      <td>NaN</td>\n",
       "      <td>NaN</td>\n",
       "      <td>NaN</td>\n",
       "    </tr>\n",
       "    <tr>\n",
       "      <th>...</th>\n",
       "      <td>...</td>\n",
       "      <td>...</td>\n",
       "      <td>...</td>\n",
       "      <td>...</td>\n",
       "      <td>...</td>\n",
       "      <td>...</td>\n",
       "      <td>...</td>\n",
       "      <td>...</td>\n",
       "      <td>...</td>\n",
       "      <td>...</td>\n",
       "      <td>...</td>\n",
       "      <td>...</td>\n",
       "      <td>...</td>\n",
       "      <td>...</td>\n",
       "      <td>...</td>\n",
       "      <td>...</td>\n",
       "      <td>...</td>\n",
       "      <td>...</td>\n",
       "      <td>...</td>\n",
       "      <td>...</td>\n",
       "      <td>...</td>\n",
       "    </tr>\n",
       "    <tr>\n",
       "      <th>343</th>\n",
       "      <td>E32991</td>\n",
       "      <td>2021-08-31</td>\n",
       "      <td>asr</td>\n",
       "      <td>前期個別期間</td>\n",
       "      <td>5.309209e+09</td>\n",
       "      <td>NaN</td>\n",
       "      <td>2.692576e+09</td>\n",
       "      <td>2.608936e+09</td>\n",
       "      <td>NaN</td>\n",
       "      <td>64157000.0</td>\n",
       "      <td>...</td>\n",
       "      <td>65.500000</td>\n",
       "      <td>65.449997</td>\n",
       "      <td>45.0</td>\n",
       "      <td>61.099998</td>\n",
       "      <td>0.0410</td>\n",
       "      <td>-9.818200e+07</td>\n",
       "      <td>72980000.0</td>\n",
       "      <td>-1.344020e+08</td>\n",
       "      <td>-1.042520e+08</td>\n",
       "      <td>-3.404300e+08</td>\n",
       "    </tr>\n",
       "    <tr>\n",
       "      <th>344</th>\n",
       "      <td>E33807</td>\n",
       "      <td>2021-08-31</td>\n",
       "      <td>asr</td>\n",
       "      <td>当期連結期間</td>\n",
       "      <td>5.251259e+10</td>\n",
       "      <td>3.867101e+10</td>\n",
       "      <td>1.384158e+10</td>\n",
       "      <td>1.267250e+10</td>\n",
       "      <td>NaN</td>\n",
       "      <td>NaN</td>\n",
       "      <td>...</td>\n",
       "      <td>54.869999</td>\n",
       "      <td>54.580002</td>\n",
       "      <td>NaN</td>\n",
       "      <td>54.950001</td>\n",
       "      <td>0.1047</td>\n",
       "      <td>2.007602e+09</td>\n",
       "      <td>626875008.0</td>\n",
       "      <td>-1.256865e+09</td>\n",
       "      <td>1.210207e+09</td>\n",
       "      <td>1.993785e+09</td>\n",
       "    </tr>\n",
       "    <tr>\n",
       "      <th>345</th>\n",
       "      <td>E33807</td>\n",
       "      <td>2021-08-31</td>\n",
       "      <td>asr</td>\n",
       "      <td>前期連結期間</td>\n",
       "      <td>3.793265e+10</td>\n",
       "      <td>2.860546e+10</td>\n",
       "      <td>9.327188e+09</td>\n",
       "      <td>8.695871e+09</td>\n",
       "      <td>NaN</td>\n",
       "      <td>NaN</td>\n",
       "      <td>...</td>\n",
       "      <td>23.530001</td>\n",
       "      <td>22.950001</td>\n",
       "      <td>NaN</td>\n",
       "      <td>68.180000</td>\n",
       "      <td>0.0455</td>\n",
       "      <td>1.582557e+09</td>\n",
       "      <td>381939008.0</td>\n",
       "      <td>-7.406100e+07</td>\n",
       "      <td>1.052513e+09</td>\n",
       "      <td>2.561214e+09</td>\n",
       "    </tr>\n",
       "    <tr>\n",
       "      <th>346</th>\n",
       "      <td>E33807</td>\n",
       "      <td>2021-08-31</td>\n",
       "      <td>asr</td>\n",
       "      <td>当期個別期間</td>\n",
       "      <td>NaN</td>\n",
       "      <td>NaN</td>\n",
       "      <td>NaN</td>\n",
       "      <td>NaN</td>\n",
       "      <td>NaN</td>\n",
       "      <td>190372000.0</td>\n",
       "      <td>...</td>\n",
       "      <td>-22.799999</td>\n",
       "      <td>NaN</td>\n",
       "      <td>25.0</td>\n",
       "      <td>NaN</td>\n",
       "      <td>-0.0466</td>\n",
       "      <td>NaN</td>\n",
       "      <td>NaN</td>\n",
       "      <td>NaN</td>\n",
       "      <td>NaN</td>\n",
       "      <td>NaN</td>\n",
       "    </tr>\n",
       "    <tr>\n",
       "      <th>347</th>\n",
       "      <td>E33807</td>\n",
       "      <td>2021-08-31</td>\n",
       "      <td>asr</td>\n",
       "      <td>前期個別期間</td>\n",
       "      <td>1.906974e+10</td>\n",
       "      <td>NaN</td>\n",
       "      <td>5.493426e+09</td>\n",
       "      <td>3.563144e+09</td>\n",
       "      <td>NaN</td>\n",
       "      <td>187012992.0</td>\n",
       "      <td>...</td>\n",
       "      <td>40.630001</td>\n",
       "      <td>39.639999</td>\n",
       "      <td>25.0</td>\n",
       "      <td>39.480000</td>\n",
       "      <td>0.0791</td>\n",
       "      <td>NaN</td>\n",
       "      <td>NaN</td>\n",
       "      <td>NaN</td>\n",
       "      <td>NaN</td>\n",
       "      <td>NaN</td>\n",
       "    </tr>\n",
       "  </tbody>\n",
       "</table>\n",
       "<p>348 rows × 33 columns</p>\n",
       "</div>"
      ],
      "text/plain": [
       "    EDINETコード     会計期間終了日 報告書略号           コンテキスト           売上高          売上原価  \\\n",
       "0      E00232  2021-09-30   q2r     当四半期累計期間連結期間  6.838049e+09  5.843014e+09   \n",
       "1      E00232  2021-09-30   q2r  前年度同四半期累計期間連結期間  7.205688e+09  6.309120e+09   \n",
       "2      E00600  2021-08-31   asr           当期連結期間  1.369117e+10  7.551287e+09   \n",
       "3      E00600  2021-08-31   asr           前期連結期間  1.425239e+10  8.250738e+09   \n",
       "4      E00600  2021-08-31   asr           当期個別期間  1.369117e+10  7.551287e+09   \n",
       "..        ...         ...   ...              ...           ...           ...   \n",
       "343    E32991  2021-08-31   asr           前期個別期間  5.309209e+09           NaN   \n",
       "344    E33807  2021-08-31   asr           当期連結期間  5.251259e+10  3.867101e+10   \n",
       "345    E33807  2021-08-31   asr           前期連結期間  3.793265e+10  2.860546e+10   \n",
       "346    E33807  2021-08-31   asr           当期個別期間           NaN           NaN   \n",
       "347    E33807  2021-08-31   asr           前期個別期間  1.906974e+10           NaN   \n",
       "\n",
       "     売上総利益又は売上総損失（△）    販売費及び一般管理費  給料及び手当  減価償却費、販売費及び一般管理費  ...  \\\n",
       "0       9.950340e+08  9.465440e+08     NaN               NaN  ...   \n",
       "1       8.965680e+08  8.798070e+08     NaN               NaN  ...   \n",
       "2       6.139881e+09  6.505332e+09     NaN       141308000.0  ...   \n",
       "3       6.001647e+09  6.929572e+09     NaN       185822000.0  ...   \n",
       "4       6.139881e+09  6.574552e+09     NaN       141260992.0  ...   \n",
       "..               ...           ...     ...               ...  ...   \n",
       "343     2.692576e+09  2.608936e+09     NaN        64157000.0  ...   \n",
       "344     1.384158e+10  1.267250e+10     NaN               NaN  ...   \n",
       "345     9.327188e+09  8.695871e+09     NaN               NaN  ...   \n",
       "346              NaN           NaN     NaN       190372000.0  ...   \n",
       "347     5.493426e+09  3.563144e+09     NaN       187012992.0  ...   \n",
       "\n",
       "     １株当たり当期純利益又は当期純損失（△）  潜在株式調整後1株当たり当期純利益  １株当たり配当額       株価収益率  自己資本利益率  \\\n",
       "0                9.210000           9.020000       NaN         NaN      NaN   \n",
       "1                6.560000           6.440000       NaN         NaN      NaN   \n",
       "2                1.490000                NaN       NaN  218.500000   0.0020   \n",
       "3              -63.049999                NaN       NaN         NaN      NaN   \n",
       "4               -0.530000                NaN       5.0         NaN      NaN   \n",
       "..                    ...                ...       ...         ...      ...   \n",
       "343             65.500000          65.449997      45.0   61.099998   0.0410   \n",
       "344             54.869999          54.580002       NaN   54.950001   0.1047   \n",
       "345             23.530001          22.950001       NaN   68.180000   0.0455   \n",
       "346            -22.799999                NaN      25.0         NaN  -0.0466   \n",
       "347             40.630001          39.639999      25.0   39.480000   0.0791   \n",
       "\n",
       "     営業活動によるキャッシュ・フロー  減価償却費、営業活動によるキャッシュ・フロー  投資活動によるキャッシュ・フロー  \\\n",
       "0        5.411160e+08             239996000.0     -7.858500e+07   \n",
       "1       -5.058200e+08             265623008.0     -3.099050e+08   \n",
       "2        7.592530e+08             177250000.0      5.732900e+07   \n",
       "3       -1.485234e+09             222852992.0     -1.687590e+08   \n",
       "4                 NaN                     NaN               NaN   \n",
       "..                ...                     ...               ...   \n",
       "343     -9.818200e+07              72980000.0     -1.344020e+08   \n",
       "344      2.007602e+09             626875008.0     -1.256865e+09   \n",
       "345      1.582557e+09             381939008.0     -7.406100e+07   \n",
       "346               NaN                     NaN               NaN   \n",
       "347               NaN                     NaN               NaN   \n",
       "\n",
       "     財務活動によるキャッシュ・フロー  現金及び現金同等物の増減額（△は減少）  \n",
       "0       -4.137300e+08         5.098800e+07  \n",
       "1       -1.191960e+08        -9.349130e+08  \n",
       "2       -3.003510e+08         5.162420e+08  \n",
       "3       -5.363930e+08        -2.191246e+09  \n",
       "4                 NaN                  NaN  \n",
       "..                ...                  ...  \n",
       "343     -1.042520e+08        -3.404300e+08  \n",
       "344      1.210207e+09         1.993785e+09  \n",
       "345      1.052513e+09         2.561214e+09  \n",
       "346               NaN                  NaN  \n",
       "347               NaN                  NaN  \n",
       "\n",
       "[348 rows x 33 columns]"
      ]
     },
     "execution_count": 8,
     "metadata": {},
     "output_type": "execute_result"
    }
   ],
   "source": [
    "df期間"
   ]
  },
  {
   "cell_type": "markdown",
   "metadata": {
    "colab_type": "text",
    "id": "-T8ERCnFR0-Q"
   },
   "source": [
    "### 有価証券報告書のみを抜き出します。"
   ]
  },
  {
   "cell_type": "code",
   "execution_count": 9,
   "metadata": {
    "colab": {},
    "colab_type": "code",
    "id": "aV_eV-ixPrwR"
   },
   "outputs": [
    {
     "name": "stderr",
     "output_type": "stream",
     "text": [
      "C:\\Users\\monnh\\anaconda3\\lib\\site-packages\\pandas\\core\\frame.py:4163: SettingWithCopyWarning: \n",
      "A value is trying to be set on a copy of a slice from a DataFrame\n",
      "\n",
      "See the caveats in the documentation: https://pandas.pydata.org/pandas-docs/stable/user_guide/indexing.html#returning-a-view-versus-a-copy\n",
      "  return super().drop(\n"
     ]
    }
   ],
   "source": [
    "df提出日時点 = df提出日時点[ df提出日時点['報告書略号'] == \"asr\" ]\n",
    "df時点       = df時点[ df時点['報告書略号'] == \"asr\" ]\n",
    "df期間       = df期間[ df期間['報告書略号'] == \"asr\" ]\n",
    "\n",
    "for tbl in [ df提出日時点, df時点, df期間 ]:\n",
    "    tbl.drop('報告書略号', axis=1, inplace=True)"
   ]
  },
  {
   "cell_type": "markdown",
   "metadata": {
    "colab_type": "text",
    "id": "RsvYjIBdeWF6"
   },
   "source": [
    "### df時点とdf期間の列で、df提出日時点の列と重複があれば取り除きます。"
   ]
  },
  {
   "cell_type": "code",
   "execution_count": 10,
   "metadata": {
    "colab": {},
    "colab_type": "code",
    "id": "c8wAFGXbtz9o"
   },
   "outputs": [],
   "source": [
    "除外columns = ['index', 'EDINETコード', '会計期間終了日', 'コンテキスト' ]\n",
    "\n",
    "for tbl in [ df時点, df期間 ]:\n",
    "    \n",
    "    # 重複する列の名前のリスト\n",
    "    dup_columns = [x for x in tbl.columns if x in df提出日時点 and not x in 除外columns]\n",
    "\n",
    "    if len(dup_columns) != 0:\n",
    "        # 重複がある場合\n",
    "\n",
    "        print(\"重複\", dup_columns)\n",
    "        tbl.drop(dup_columns, axis=1, inplace=True)"
   ]
  },
  {
   "cell_type": "markdown",
   "metadata": {
    "colab_type": "text",
    "id": "RDocavgbYeAH"
   },
   "source": [
    "### df時点とdf期間で同じ名前の列があれば、名前に「-時点」や「-期間」を付加します。"
   ]
  },
  {
   "cell_type": "code",
   "execution_count": 11,
   "metadata": {
    "colab": {},
    "colab_type": "code",
    "id": "zmHAxchDbqTr"
   },
   "outputs": [],
   "source": [
    "v = [x for x in df時点.columns if not x in 除外columns]\n",
    "for name in v:\n",
    "    if name in df期間.columns:\n",
    "        print('%d %d %s' % (df時点[name].notnull().sum(), df期間[name].notnull().sum(), name))\n",
    "        df時点.rename(columns={ name: name+'-時点' }, errors='raise', inplace=True)                    \n",
    "        df期間.rename(columns={ name: name+'-期間' }, errors='raise', inplace=True)"
   ]
  },
  {
   "cell_type": "markdown",
   "metadata": {
    "colab_type": "text",
    "id": "p2FSFfp0T9Al"
   },
   "source": [
    "### 内容が同じで名前が違う2つの列を1つに統合します。"
   ]
  },
  {
   "cell_type": "code",
   "execution_count": 12,
   "metadata": {
    "colab": {},
    "colab_type": "code",
    "id": "LVZs65UjreVG"
   },
   "outputs": [],
   "source": [
    "def unify_columns(tbl, alias, name):\n",
    "    diff = 0\n",
    "\n",
    "    # 別名と本名の列のそれぞれの値に対し\n",
    "    for idx, (alias_val, val) in enumerate(zip(tbl[alias], tbl[name])):\n",
    "        if not alias_val is None:\n",
    "            # 別名の値がある場合\n",
    "\n",
    "            if val is None:\n",
    "                # 本名の値がない場合\n",
    "\n",
    "                # 別名の値を本名の値とする。\n",
    "                tbl[name].iloc[idx] = alias_val\n",
    "            else:\n",
    "                # 本名の値がある場合\n",
    "\n",
    "                if val != 0:\n",
    "\n",
    "                    # 別名と本名の値の違いを調べる。\n",
    "                    diff = max(diff, abs((alias_val - val)/val) )\n",
    "\n",
    "    print('%.5f %s' % (diff, alias))"
   ]
  },
  {
   "cell_type": "code",
   "execution_count": 13,
   "metadata": {
    "colab": {},
    "colab_type": "code",
    "id": "yPm2SJkfUBt8"
   },
   "outputs": [
    {
     "name": "stdout",
     "output_type": "stream",
     "text": [
      "短縮 : 売上総利益又は売上総損失（△） -> 売上総利益\n"
     ]
    },
    {
     "name": "stderr",
     "output_type": "stream",
     "text": [
      "C:\\Users\\monnh\\anaconda3\\lib\\site-packages\\pandas\\core\\frame.py:4296: SettingWithCopyWarning: \n",
      "A value is trying to be set on a copy of a slice from a DataFrame\n",
      "\n",
      "See the caveats in the documentation: https://pandas.pydata.org/pandas-docs/stable/user_guide/indexing.html#returning-a-view-versus-a-copy\n",
      "  return super().rename(\n"
     ]
    }
   ],
   "source": [
    "for suffix in [ '（IFRS）', '、経営指標等', '（平成26年3月28日財規等改正後）', '又は売上総損失（△）' ]:\n",
    "    for tbl in [df時点, df期間]:\n",
    "        drop_names = []\n",
    "        for name in tbl.columns:\n",
    "            \n",
    "            if  suffix in name:\n",
    "                # 名前に接尾辞が含まれる場合\n",
    "\n",
    "                # 名前から接尾辞を取り除く。\n",
    "                short_name = name.replace(suffix, '')\n",
    "                \n",
    "                if short_name in tbl.columns:\n",
    "                    # 短い名前の列がある場合\n",
    "\n",
    "                    # 短い名前の列に統合する。\n",
    "                    unify_columns(tbl, name, short_name)\n",
    "\n",
    "                    # 長い名前の列は削除する。\n",
    "                    drop_names.append(name)\n",
    "\n",
    "                else:\n",
    "                    # 短い名前の列がない場合\n",
    "\n",
    "                    if suffix != '（IFRS）':\n",
    "\n",
    "                        # 長い名前を短い名前に変える。\n",
    "                        print('短縮 : %s -> %s' % (name, short_name))\n",
    "                        tbl.rename(columns={ name:short_name }, errors='raise', inplace=True)                    \n",
    "\n",
    "        # 長い名前の列を削除する。\n",
    "        tbl.drop(drop_names, axis=1, inplace=True)"
   ]
  },
  {
   "cell_type": "markdown",
   "metadata": {
    "colab_type": "text",
    "id": "TRA3dCR7tqJw"
   },
   "source": [
    "### 長い項目名を短くします。"
   ]
  },
  {
   "cell_type": "code",
   "execution_count": 14,
   "metadata": {
    "colab": {},
    "colab_type": "code",
    "id": "L_1SloWuPSk9"
   },
   "outputs": [
    {
     "data": {
      "text/plain": [
       "Index(['EDINETコード', '会計期間終了日', 'コンテキスト', '売上高', '売上原価', '売上総利益', '販売費及び一般管理費',\n",
       "       '給料及び手当', '減価償却費、販売費及び一般管理費', '研究開発費', '営業利益又は営業損失（△）', '営業外収益',\n",
       "       '営業外費用', '支払利息', '経常利益又は経常損失（△）', '特別利益', '特別損失',\n",
       "       '税引前当期純利益又は税引前当期純損失（△）', '法人税等', '当期純利益又は当期純損失（△）',\n",
       "       '親会社株主に帰属する当期純利益又は親会社株主に帰属する当期純損失（△）', '包括利益', '１株当たり当期純利益又は当期純損失（△）',\n",
       "       '潜在株式調整後1株当たり当期純利益', '１株当たり配当額', '株価収益率', '自己資本利益率', '営業活動によるキャッシュ・フロー',\n",
       "       '減価償却費、営業活動によるキャッシュ・フロー', '投資活動によるキャッシュ・フロー', '財務活動によるキャッシュ・フロー',\n",
       "       '現金及び現金同等物の増減額（△は減少）'],\n",
       "      dtype='object')"
      ]
     },
     "execution_count": 14,
     "metadata": {},
     "output_type": "execute_result"
    }
   ],
   "source": [
    "df期間.columns"
   ]
  },
  {
   "cell_type": "code",
   "execution_count": 15,
   "metadata": {
    "colab": {},
    "colab_type": "code",
    "id": "e5r9VzaotpYc"
   },
   "outputs": [],
   "source": [
    "df時点 = df時点.rename(columns={ \n",
    "    '１株当たり純資産額': '１株当たり純資産',\n",
    "    '平均年齢（年）'    : '平均年齢',\n",
    "    '平均勤続年数（年）': '平均勤続年数',\n",
    "})\n",
    "\n",
    "df期間 = df期間.rename(columns={ \n",
    "    # '売上総利益又は売上総損失（△）'            :'売上総利益', \n",
    "    '経常利益又は経常損失（△）'                : '経常利益', \n",
    "    '営業利益又は営業損失（△）'                : '営業利益',\n",
    "    '当期純利益又は当期純損失（△）'            :'純利益', \n",
    "    '税引前当期純利益又は税引前当期純損失（△）':'税引前純利益', \n",
    "    '１株当たり当期純利益又は当期純損失（△）'  :'１株当たり純利益',\n",
    "    '親会社株主に帰属する当期純利益又は親会社株主に帰属する当期純損失（△）': '親会社株主に帰属する純利益',\n",
    "    '潜在株式調整後1株当たり当期純利益'         :'調整1株当たり純利益',\n",
    "    '現金及び現金同等物の増減額（△は減少）'    :'現金及び現金同等物の増減' \n",
    "}, errors='raise')"
   ]
  },
  {
   "cell_type": "markdown",
   "metadata": {
    "colab_type": "text",
    "id": "MOreHUTFSFgH"
   },
   "source": [
    "### コンテキストごとに分離します。"
   ]
  },
  {
   "cell_type": "code",
   "execution_count": 16,
   "metadata": {
    "colab": {},
    "colab_type": "code",
    "id": "d9FncI13ITDb"
   },
   "outputs": [],
   "source": [
    "df提出日時点 = df提出日時点.set_index(['EDINETコード', '会計期間終了日'])\n",
    "\n",
    "tbls = []\n",
    "for tbl, ctx in [ [df時点, '当期連結時点'], [df時点, '当期個別時点'], [df時点, '前期連結時点'], [df時点, '前期個別時点'], \\\n",
    "                  [df期間, '当期連結期間'], [df期間, '当期個別期間'], [df期間, '前期連結期間'], [df期間, '前期個別期間'] ]:\n",
    "\n",
    "    tmp = tbl[tbl['コンテキスト'] == ctx]\n",
    "    \n",
    "    tmp = tmp.set_index(['EDINETコード', '会計期間終了日'])\n",
    "    \n",
    "    tmp = tmp.drop('コンテキスト', axis=1)\n",
    "\n",
    "    tbls.append(tmp)\n",
    "\n",
    "df当期連結時点, df当期個別時点, df前期連結時点, df前期個別時点, df当期連結期間, df当期個別期間, df前期連結期間, df前期個別期間 = tbls\n",
    "\n",
    "assert len(df提出日時点) == len(df当期連結時点) == len(df当期個別時点) == len(df当期連結期間) == len(df当期個別期間) == len(df前期連結時点) == len(df前期個別時点) == len(df前期連結期間) == len(df前期個別期間)"
   ]
  },
  {
   "cell_type": "markdown",
   "metadata": {
    "colab_type": "text",
    "id": "qzRnHVTYudYG"
   },
   "source": [
    "### 会計終了時点と会計期間の表を連結します。"
   ]
  },
  {
   "cell_type": "code",
   "execution_count": 17,
   "metadata": {
    "colab": {},
    "colab_type": "code",
    "id": "ykk6987Ca-8v"
   },
   "outputs": [],
   "source": [
    "df当期連結 = pd.concat([ df当期連結時点, df当期連結期間 ], axis=1)\n",
    "df当期個別 = pd.concat([ df当期個別時点, df当期個別期間 ], axis=1)\n",
    "df前期連結 = pd.concat([ df前期連結時点, df前期連結期間 ], axis=1)\n",
    "df前期個別 = pd.concat([ df前期個別時点, df前期個別期間 ], axis=1)\n",
    "\n",
    "assert len(df当期連結) == len(df当期連結時点)  == len(df当期連結期間) == len(df当期個別) == len(df当期個別時点)  == len(df当期個別期間)\n",
    "assert len(df前期連結) == len(df前期連結時点)  == len(df前期連結期間) == len(df前期個別) == len(df前期個別時点)  == len(df前期個別期間)\n",
    "\n",
    "assert list(df当期連結.columns) == list(df当期個別.columns) == list(df前期連結.columns) == list(df前期個別.columns)"
   ]
  },
  {
   "cell_type": "code",
   "execution_count": 18,
   "metadata": {
    "colab": {},
    "colab_type": "code",
    "id": "4LFXHiwNGql_"
   },
   "outputs": [
    {
     "data": {
      "text/plain": [
       "[(0, ('所有株式数', 68)),\n",
       " (1, ('発行済株式（自己株式を除く。）の総数に対する所有株式数の割合', 68)),\n",
       " (2, ('従業員数', 58)),\n",
       " (3, ('資産', 58)),\n",
       " (4, ('流動資産', 58)),\n",
       " (5, ('有形固定資産', 58)),\n",
       " (6, ('負債', 58)),\n",
       " (7, ('流動負債', 58)),\n",
       " (8, ('資本金', 58)),\n",
       " (9, ('資本剰余金', 58)),\n",
       " (10, ('利益剰余金', 58)),\n",
       " (11, ('営業活動によるキャッシュ・フロー', 58)),\n",
       " (12, ('投資活動によるキャッシュ・フロー', 58)),\n",
       " (13, ('財務活動によるキャッシュ・フロー', 58)),\n",
       " (14, ('現金及び現金同等物の増減', 58)),\n",
       " (15, ('連結子会社の数', 57)),\n",
       " (16, ('１株当たり純資産', 57)),\n",
       " (17, ('自己資本比率', 57)),\n",
       " (18, ('現金及び現金同等物の残高', 57)),\n",
       " (19, ('固定資産', 57)),\n",
       " (20, ('投資その他の資産', 57)),\n",
       " (21, ('純資産', 57)),\n",
       " (22, ('株主資本', 57)),\n",
       " (23, ('自己株式', 57)),\n",
       " (24, ('売上原価', 57)),\n",
       " (25, ('販売費及び一般管理費', 57)),\n",
       " (26, ('営業利益', 57)),\n",
       " (27, ('営業外収益', 57)),\n",
       " (28, ('営業外費用', 57)),\n",
       " (29, ('経常利益', 57)),\n",
       " (30, ('税引前純利益', 57)),\n",
       " (31, ('法人税等', 57)),\n",
       " (32, ('純利益', 57)),\n",
       " (33, ('親会社株主に帰属する純利益', 57)),\n",
       " (34, ('包括利益', 57)),\n",
       " (35, ('１株当たり純利益', 57)),\n",
       " (36, ('売上高', 56)),\n",
       " (37, ('売上総利益', 56)),\n",
       " (38, ('無形固定資産', 55)),\n",
       " (39, ('固定負債', 55)),\n",
       " (40, ('自己資本利益率', 55)),\n",
       " (41, ('減価償却費、営業活動によるキャッシュ・フロー', 55)),\n",
       " (42, ('評価・換算差額等', 53)),\n",
       " (43, ('支払利息', 53)),\n",
       " (44, ('特別損失', 52)),\n",
       " (45, ('株価収益率', 49)),\n",
       " (46, ('平均臨時雇用人員', 45)),\n",
       " (47, ('長期借入金', 45)),\n",
       " (48, ('1年内返済予定の長期借入金', 40)),\n",
       " (49, ('特別利益', 35)),\n",
       " (50, ('短期借入金', 33)),\n",
       " (51, ('給料及び手当', 31)),\n",
       " (52, ('調整1株当たり純利益', 24)),\n",
       " (53, ('減価償却費、販売費及び一般管理費', 22)),\n",
       " (54, ('研究開発費', 17)),\n",
       " (55, ('社債', 9)),\n",
       " (56, ('1年内償還予定の社債', 8)),\n",
       " (57, ('転換社債型新株予約権付社債', 2)),\n",
       " (58, ('平均年齢', 0)),\n",
       " (59, ('平均勤続年数', 0)),\n",
       " (60, ('平均年間給与', 0)),\n",
       " (61, ('発行済株式総数', 0)),\n",
       " (62, ('コマーシャル・ペーパー', 0)),\n",
       " (63, ('１株当たり配当額', 0))]"
      ]
     },
     "execution_count": 18,
     "metadata": {},
     "output_type": "execute_result"
    }
   ],
   "source": [
    "column_cnts = df当期連結.notnull().sum().items()\n",
    "sorted_column_cnts = sorted(column_cnts, key=lambda x: x[1], reverse=True)\n",
    "\n",
    "sorted_columns = [x[0] for x in sorted_column_cnts]\n",
    "\n",
    "list(enumerate(sorted_column_cnts[:200]))"
   ]
  },
  {
   "cell_type": "markdown",
   "metadata": {
    "colab_type": "text",
    "id": "KUps6F-6tdPc"
   },
   "source": [
    "### 期首期末平均資産を計算します。"
   ]
  },
  {
   "cell_type": "code",
   "execution_count": 19,
   "metadata": {
    "colab": {},
    "colab_type": "code",
    "id": "ZCJhgmWy9NRm"
   },
   "outputs": [],
   "source": [
    "def set_assets_mean(tbl):\n",
    "    # 期首期末平均資産\n",
    "    mean_assets = np.ndarray(shape=(len(tbl),), dtype=np.float32)\n",
    "\n",
    "    # EDINETコード\n",
    "    edinet_codes = tbl.index.map(lambda x: x[0])\n",
    "    \n",
    "    prev_code = None\n",
    "    prev_value = None\n",
    "\n",
    "    # EDINETコードと資産に対し\n",
    "    for i, [code, value] in enumerate(zip(edinet_codes, tbl['資産'])):\n",
    "        if prev_code != code:\n",
    "            # 会社の最初の場合\n",
    "\n",
    "            # 前期がないので今期の資産を期首期末平均資産とする。\n",
    "            mean_assets[i] = value\n",
    "\n",
    "            prev_code = code\n",
    "        else:\n",
    "            # 会社の最初でない場合\n",
    "\n",
    "            # 前期と今期の平均の資産を期首期末平均資産とする。\n",
    "            mean_assets[i] = (prev_value + value) / 2\n",
    "\n",
    "        # 前期の資産\n",
    "        prev_value = value\n",
    "\n",
    "    tbl['期首期末平均資産'] = mean_assets\n",
    "\n",
    "for tbl in [ df当期連結, df当期個別, df前期連結, df前期個別 ]:\n",
    "    set_assets_mean(tbl)"
   ]
  },
  {
   "cell_type": "markdown",
   "metadata": {
    "colab_type": "text",
    "id": "N6egP2yOR5uA"
   },
   "source": [
    "### 財務指標を計算します。"
   ]
  },
  {
   "cell_type": "code",
   "execution_count": 20,
   "metadata": {
    "colab": {},
    "colab_type": "code",
    "id": "gvtx808kR73y"
   },
   "outputs": [],
   "source": [
    "for tbl in [ df当期連結, df当期個別, df前期連結, df前期個別 ]:\n",
    "    tbl['粗利益'] = tbl['売上高'] - tbl['売上原価']\n",
    "\n",
    "    tbl['売上高総利益率']   = tbl['粗利益']   / tbl['売上高']\n",
    "    tbl['売上高営業利益率'] = tbl['営業利益'] / tbl['売上高']\n",
    "    tbl['売上高経常利益率'] = tbl['経常利益'] / tbl['売上高']\n",
    "\n",
    "    tbl['売上高販管費率']   = tbl['販売費及び一般管理費'] / tbl['売上高']\n",
    "\n",
    "    tbl['総資本回転率']     = tbl['売上高'] / tbl['資産']\n",
    "    tbl['流動比率']         = tbl['流動資産'] / tbl['流動負債']\n",
    "\n",
    "    tbl['総資産経常利益率'] = tbl['経常利益'] / tbl['期首期末平均資産']\n",
    "\n",
    "    tbl['総資産純利益率']   = tbl['純利益']   / tbl['期首期末平均資産']\n",
    "\n",
    "    tbl['総資産親会社株主に帰属する純利益率']   = tbl['親会社株主に帰属する純利益'] / tbl['期首期末平均資産']\n",
    "\n",
    "    tbl['自己資本'] = tbl['株主資本'].fillna(0) + tbl['評価・換算差額等'].fillna(0)\n",
    "\n",
    "    tbl['有利子負債'] = tbl['短期借入金'].fillna(0) + tbl['1年内返済予定の長期借入金'].fillna(0) + tbl['1年内償還予定の社債'].fillna(0) + tbl['長期借入金'].fillna(0) \\\n",
    "        + tbl['社債'].fillna(0) + tbl['転換社債型新株予約権付社債'].fillna(0) + tbl['コマーシャル・ペーパー'].fillna(0)\n",
    "\n",
    "    tbl['負債比率'] = tbl['負債'] / tbl['自己資本']\n",
    "    tbl['有利子負債比率'] = tbl['有利子負債']  / tbl['自己資本']"
   ]
  },
  {
   "cell_type": "markdown",
   "metadata": {
    "colab_type": "text",
    "id": "ilXY6hxExi3N"
   },
   "source": [
    "### 前期の列名に「前期」の接頭語を付けます。"
   ]
  },
  {
   "cell_type": "code",
   "execution_count": 21,
   "metadata": {
    "colab": {},
    "colab_type": "code",
    "id": "_R6jUgxxxrGT"
   },
   "outputs": [],
   "source": [
    "for tbl in [ df前期連結, df前期個別 ]:\n",
    "    tbl.rename(columns=dict((x, '前期' + x) for x in tbl.columns), inplace=True)"
   ]
  },
  {
   "cell_type": "markdown",
   "metadata": {
    "colab_type": "text",
    "id": "f1tj_fVPysNU"
   },
   "source": [
    "### 連結と個別のそれぞれの当期と前期の表を連結します。"
   ]
  },
  {
   "cell_type": "code",
   "execution_count": 22,
   "metadata": {
    "colab": {},
    "colab_type": "code",
    "id": "Wdz1C5IgyxXu"
   },
   "outputs": [],
   "source": [
    "df連結 = pd.concat([ df当期連結, df前期連結 ], axis=1)\n",
    "df個別 = pd.concat([ df当期個別, df前期個別 ], axis=1)\n",
    "\n",
    "assert len(df連結) == len(df当期連結) == len(df前期連結) == len(df個別) == len(df当期個別) == len(df前期個別)"
   ]
  },
  {
   "cell_type": "markdown",
   "metadata": {
    "colab_type": "text",
    "id": "doahVCuPSB7U"
   },
   "source": [
    "### 当期の列名のリストを得ます。"
   ]
  },
  {
   "cell_type": "code",
   "execution_count": 23,
   "metadata": {
    "colab": {},
    "colab_type": "code",
    "id": "zr4vA0fW4Cs6"
   },
   "outputs": [],
   "source": [
    "assert list(df当期連結.columns) == list(df当期個別.columns)\n",
    "\n",
    "num_columns = list(df当期連結.columns)\n",
    "\n",
    "# 列名の重複がないことを確認\n",
    "assert len(num_columns) == len(set(num_columns))"
   ]
  },
  {
   "cell_type": "markdown",
   "metadata": {
    "colab_type": "text",
    "id": "T8B9YEjQTmKF"
   },
   "source": [
    "### 前期から当期への変化率を計算します。"
   ]
  },
  {
   "cell_type": "code",
   "execution_count": 24,
   "metadata": {
    "colab": {},
    "colab_type": "code",
    "id": "QSA4DBf9IBsx"
   },
   "outputs": [],
   "source": [
    "for tbl in [ df連結, df個別 ]:\n",
    "    for title in num_columns:\n",
    "        tbl[title + '変化率'] = (tbl[title] - tbl['前期' + title]) / tbl['前期' + title]"
   ]
  },
  {
   "cell_type": "markdown",
   "metadata": {
    "colab_type": "text",
    "id": "S6rfYpbSTwjP"
   },
   "source": [
    "### 前期のデータは以降で使わないので削除します。"
   ]
  },
  {
   "cell_type": "code",
   "execution_count": 25,
   "metadata": {
    "colab": {},
    "colab_type": "code",
    "id": "LT0X_XOsHu1o"
   },
   "outputs": [],
   "source": [
    "drop_columns = ['前期' + x for x in num_columns]\n",
    "\n",
    "df連結 = df連結.drop(drop_columns, axis=1)\n",
    "df個別 = df個別.drop(drop_columns, axis=1)\n"
   ]
  },
  {
   "cell_type": "markdown",
   "metadata": {
    "colab_type": "text",
    "id": "WLdSVGNlS1H_"
   },
   "source": [
    "### 個別の列名に「個別」の接頭語を付けます。"
   ]
  },
  {
   "cell_type": "code",
   "execution_count": 26,
   "metadata": {
    "colab": {},
    "colab_type": "code",
    "id": "Mvf_KO_9Sw6F"
   },
   "outputs": [],
   "source": [
    "df個別.rename(columns=dict((x, '個別' + x) for x in df個別.columns), inplace=True)"
   ]
  },
  {
   "cell_type": "markdown",
   "metadata": {
    "colab_type": "text",
    "id": "2L4yFK6DTGBG"
   },
   "source": [
    "### 連結と個別のデータを１つにまとめます。"
   ]
  },
  {
   "cell_type": "code",
   "execution_count": 27,
   "metadata": {
    "colab": {},
    "colab_type": "code",
    "id": "giJVKj3MdR_A"
   },
   "outputs": [],
   "source": [
    "df = pd.concat([ df連結, df個別 ], axis=1)\n",
    "\n",
    "assert len(df) == len(df提出日時点)\n",
    "\n",
    "# 列名の重複がないことを確認します。\n",
    "assert len(df.columns) == len(set(df.columns))"
   ]
  },
  {
   "cell_type": "markdown",
   "metadata": {
    "colab_type": "text",
    "id": "Fwxi6O8YLV5F"
   },
   "source": [
    "#### 次期変化率を計算します。"
   ]
  },
  {
   "cell_type": "code",
   "execution_count": 28,
   "metadata": {
    "colab": {},
    "colab_type": "code",
    "id": "ZqMrYvD_BKgO"
   },
   "outputs": [],
   "source": [
    "# 予測する列の名前\n",
    "y_column = target + '次期変化率'\n",
    "\n",
    "# 次期変化率の配列をNaNで初期化します。\n",
    "change_rate = np.array([np.nan] * len(df), dtype=np.float32)\n",
    "\n",
    "# EDINETコード\n",
    "edinet_codes = df.index.map(lambda x: x[0])\n",
    "\n",
    "# 直前のEDINETコード\n",
    "prev_code = None\n",
    "\n",
    "# 直前の値\n",
    "prev_value = None\n",
    "\n",
    "for i, [code, value] in enumerate(zip(edinet_codes, df[target])):\n",
    "    if prev_code != code:\n",
    "        # 会社が変わった場合\n",
    "\n",
    "        prev_code = code\n",
    "    else:\n",
    "        # 会社が同じ場合\n",
    "\n",
    "        if prev_value != 0:\n",
    "            # 直前の値が0でない場合\n",
    "\n",
    "            # 次期変化率を計算します。\n",
    "            change_rate[i - 1] = (value - prev_value) / prev_value\n",
    "\n",
    "    prev_value = value\n",
    "\n",
    "df[y_column] = change_rate"
   ]
  },
  {
   "cell_type": "code",
   "execution_count": 29,
   "metadata": {},
   "outputs": [
    {
     "data": {
      "text/html": [
       "<div>\n",
       "<style scoped>\n",
       "    .dataframe tbody tr th:only-of-type {\n",
       "        vertical-align: middle;\n",
       "    }\n",
       "\n",
       "    .dataframe tbody tr th {\n",
       "        vertical-align: top;\n",
       "    }\n",
       "\n",
       "    .dataframe thead th {\n",
       "        text-align: right;\n",
       "    }\n",
       "</style>\n",
       "<table border=\"1\" class=\"dataframe\">\n",
       "  <thead>\n",
       "    <tr style=\"text-align: right;\">\n",
       "      <th></th>\n",
       "      <th></th>\n",
       "      <th>従業員数</th>\n",
       "      <th>平均臨時雇用人員</th>\n",
       "      <th>平均年齢</th>\n",
       "      <th>平均勤続年数</th>\n",
       "      <th>平均年間給与</th>\n",
       "      <th>所有株式数</th>\n",
       "      <th>発行済株式（自己株式を除く。）の総数に対する所有株式数の割合</th>\n",
       "      <th>発行済株式総数</th>\n",
       "      <th>連結子会社の数</th>\n",
       "      <th>１株当たり純資産</th>\n",
       "      <th>...</th>\n",
       "      <th>個別総資本回転率変化率</th>\n",
       "      <th>個別流動比率変化率</th>\n",
       "      <th>個別総資産経常利益率変化率</th>\n",
       "      <th>個別総資産純利益率変化率</th>\n",
       "      <th>個別総資産親会社株主に帰属する純利益率変化率</th>\n",
       "      <th>個別自己資本変化率</th>\n",
       "      <th>個別有利子負債変化率</th>\n",
       "      <th>個別負債比率変化率</th>\n",
       "      <th>個別有利子負債比率変化率</th>\n",
       "      <th>税引前純利益次期変化率</th>\n",
       "    </tr>\n",
       "    <tr>\n",
       "      <th>EDINETコード</th>\n",
       "      <th>会計期間終了日</th>\n",
       "      <th></th>\n",
       "      <th></th>\n",
       "      <th></th>\n",
       "      <th></th>\n",
       "      <th></th>\n",
       "      <th></th>\n",
       "      <th></th>\n",
       "      <th></th>\n",
       "      <th></th>\n",
       "      <th></th>\n",
       "      <th></th>\n",
       "      <th></th>\n",
       "      <th></th>\n",
       "      <th></th>\n",
       "      <th></th>\n",
       "      <th></th>\n",
       "      <th></th>\n",
       "      <th></th>\n",
       "      <th></th>\n",
       "      <th></th>\n",
       "      <th></th>\n",
       "    </tr>\n",
       "  </thead>\n",
       "  <tbody>\n",
       "    <tr>\n",
       "      <th>E00600</th>\n",
       "      <th>2021-08-31</th>\n",
       "      <td>194.0</td>\n",
       "      <td>1103.0</td>\n",
       "      <td>NaN</td>\n",
       "      <td>NaN</td>\n",
       "      <td>NaN</td>\n",
       "      <td>7503000.0</td>\n",
       "      <td>0.3651</td>\n",
       "      <td>NaN</td>\n",
       "      <td>1.0</td>\n",
       "      <td>776.159973</td>\n",
       "      <td>...</td>\n",
       "      <td>-0.041419</td>\n",
       "      <td>-0.031348</td>\n",
       "      <td>-1.034627</td>\n",
       "      <td>-0.991558</td>\n",
       "      <td>NaN</td>\n",
       "      <td>0.004978</td>\n",
       "      <td>-0.213054</td>\n",
       "      <td>-0.011529</td>\n",
       "      <td>-0.216952</td>\n",
       "      <td>NaN</td>\n",
       "    </tr>\n",
       "    <tr>\n",
       "      <th>E01064</th>\n",
       "      <th>2021-08-31</th>\n",
       "      <td>793.0</td>\n",
       "      <td>339.0</td>\n",
       "      <td>NaN</td>\n",
       "      <td>NaN</td>\n",
       "      <td>NaN</td>\n",
       "      <td>5080840.0</td>\n",
       "      <td>0.3580</td>\n",
       "      <td>NaN</td>\n",
       "      <td>13.0</td>\n",
       "      <td>833.440002</td>\n",
       "      <td>...</td>\n",
       "      <td>-0.367340</td>\n",
       "      <td>-0.201670</td>\n",
       "      <td>-0.209878</td>\n",
       "      <td>-0.088593</td>\n",
       "      <td>NaN</td>\n",
       "      <td>0.079158</td>\n",
       "      <td>3.985902</td>\n",
       "      <td>1.527348</td>\n",
       "      <td>3.620178</td>\n",
       "      <td>NaN</td>\n",
       "    </tr>\n",
       "    <tr>\n",
       "      <th>E02896</th>\n",
       "      <th>2021-08-31</th>\n",
       "      <td>836.0</td>\n",
       "      <td>167.0</td>\n",
       "      <td>NaN</td>\n",
       "      <td>NaN</td>\n",
       "      <td>NaN</td>\n",
       "      <td>3995000.0</td>\n",
       "      <td>0.2993</td>\n",
       "      <td>NaN</td>\n",
       "      <td>13.0</td>\n",
       "      <td>2385.090088</td>\n",
       "      <td>...</td>\n",
       "      <td>-0.186260</td>\n",
       "      <td>-0.018069</td>\n",
       "      <td>-0.300669</td>\n",
       "      <td>-0.297597</td>\n",
       "      <td>NaN</td>\n",
       "      <td>0.045533</td>\n",
       "      <td>NaN</td>\n",
       "      <td>0.014883</td>\n",
       "      <td>NaN</td>\n",
       "      <td>NaN</td>\n",
       "    </tr>\n",
       "    <tr>\n",
       "      <th>E03000</th>\n",
       "      <th>2021-08-31</th>\n",
       "      <td>NaN</td>\n",
       "      <td>NaN</td>\n",
       "      <td>NaN</td>\n",
       "      <td>NaN</td>\n",
       "      <td>NaN</td>\n",
       "      <td>1566000.0</td>\n",
       "      <td>0.7288</td>\n",
       "      <td>NaN</td>\n",
       "      <td>NaN</td>\n",
       "      <td>NaN</td>\n",
       "      <td>...</td>\n",
       "      <td>0.083826</td>\n",
       "      <td>0.608192</td>\n",
       "      <td>0.372346</td>\n",
       "      <td>1.736547</td>\n",
       "      <td>NaN</td>\n",
       "      <td>0.101320</td>\n",
       "      <td>-0.682991</td>\n",
       "      <td>-0.501050</td>\n",
       "      <td>-0.712155</td>\n",
       "      <td>NaN</td>\n",
       "    </tr>\n",
       "    <tr>\n",
       "      <th>E03240</th>\n",
       "      <th>2021-08-31</th>\n",
       "      <td>776.0</td>\n",
       "      <td>2034.0</td>\n",
       "      <td>NaN</td>\n",
       "      <td>NaN</td>\n",
       "      <td>NaN</td>\n",
       "      <td>15768000.0</td>\n",
       "      <td>0.5717</td>\n",
       "      <td>NaN</td>\n",
       "      <td>1.0</td>\n",
       "      <td>538.940002</td>\n",
       "      <td>...</td>\n",
       "      <td>0.089014</td>\n",
       "      <td>-0.071607</td>\n",
       "      <td>-1.027249</td>\n",
       "      <td>-0.586798</td>\n",
       "      <td>NaN</td>\n",
       "      <td>-0.123043</td>\n",
       "      <td>-0.292070</td>\n",
       "      <td>-0.030958</td>\n",
       "      <td>-0.192742</td>\n",
       "      <td>NaN</td>\n",
       "    </tr>\n",
       "    <tr>\n",
       "      <th>...</th>\n",
       "      <th>...</th>\n",
       "      <td>...</td>\n",
       "      <td>...</td>\n",
       "      <td>...</td>\n",
       "      <td>...</td>\n",
       "      <td>...</td>\n",
       "      <td>...</td>\n",
       "      <td>...</td>\n",
       "      <td>...</td>\n",
       "      <td>...</td>\n",
       "      <td>...</td>\n",
       "      <td>...</td>\n",
       "      <td>...</td>\n",
       "      <td>...</td>\n",
       "      <td>...</td>\n",
       "      <td>...</td>\n",
       "      <td>...</td>\n",
       "      <td>...</td>\n",
       "      <td>...</td>\n",
       "      <td>...</td>\n",
       "      <td>...</td>\n",
       "      <td>...</td>\n",
       "    </tr>\n",
       "    <tr>\n",
       "      <th>E30999</th>\n",
       "      <th>2021-08-31</th>\n",
       "      <td>391.0</td>\n",
       "      <td>117.0</td>\n",
       "      <td>NaN</td>\n",
       "      <td>NaN</td>\n",
       "      <td>NaN</td>\n",
       "      <td>1410195.0</td>\n",
       "      <td>0.8106</td>\n",
       "      <td>NaN</td>\n",
       "      <td>8.0</td>\n",
       "      <td>300.040009</td>\n",
       "      <td>...</td>\n",
       "      <td>0.107690</td>\n",
       "      <td>-0.174402</td>\n",
       "      <td>1.057599</td>\n",
       "      <td>1.394464</td>\n",
       "      <td>NaN</td>\n",
       "      <td>0.214229</td>\n",
       "      <td>-0.246502</td>\n",
       "      <td>-0.230274</td>\n",
       "      <td>-0.379443</td>\n",
       "      <td>NaN</td>\n",
       "    </tr>\n",
       "    <tr>\n",
       "      <th>E31743</th>\n",
       "      <th>2021-08-31</th>\n",
       "      <td>213.0</td>\n",
       "      <td>NaN</td>\n",
       "      <td>NaN</td>\n",
       "      <td>NaN</td>\n",
       "      <td>NaN</td>\n",
       "      <td>6204000.0</td>\n",
       "      <td>0.8101</td>\n",
       "      <td>NaN</td>\n",
       "      <td>6.0</td>\n",
       "      <td>939.469971</td>\n",
       "      <td>...</td>\n",
       "      <td>0.104613</td>\n",
       "      <td>0.143706</td>\n",
       "      <td>-0.364123</td>\n",
       "      <td>-0.492359</td>\n",
       "      <td>NaN</td>\n",
       "      <td>0.054847</td>\n",
       "      <td>-0.062456</td>\n",
       "      <td>-0.193911</td>\n",
       "      <td>-0.111204</td>\n",
       "      <td>NaN</td>\n",
       "    </tr>\n",
       "    <tr>\n",
       "      <th>E32351</th>\n",
       "      <th>2021-08-31</th>\n",
       "      <td>NaN</td>\n",
       "      <td>NaN</td>\n",
       "      <td>NaN</td>\n",
       "      <td>NaN</td>\n",
       "      <td>NaN</td>\n",
       "      <td>15000600.0</td>\n",
       "      <td>0.6882</td>\n",
       "      <td>NaN</td>\n",
       "      <td>NaN</td>\n",
       "      <td>NaN</td>\n",
       "      <td>...</td>\n",
       "      <td>-0.049572</td>\n",
       "      <td>0.188060</td>\n",
       "      <td>-4.110205</td>\n",
       "      <td>-7.306115</td>\n",
       "      <td>NaN</td>\n",
       "      <td>0.436036</td>\n",
       "      <td>2.398380</td>\n",
       "      <td>-0.000907</td>\n",
       "      <td>1.366500</td>\n",
       "      <td>NaN</td>\n",
       "    </tr>\n",
       "    <tr>\n",
       "      <th>E32991</th>\n",
       "      <th>2021-08-31</th>\n",
       "      <td>NaN</td>\n",
       "      <td>NaN</td>\n",
       "      <td>NaN</td>\n",
       "      <td>NaN</td>\n",
       "      <td>NaN</td>\n",
       "      <td>1887000.0</td>\n",
       "      <td>0.8137</td>\n",
       "      <td>NaN</td>\n",
       "      <td>NaN</td>\n",
       "      <td>NaN</td>\n",
       "      <td>...</td>\n",
       "      <td>0.078268</td>\n",
       "      <td>0.087920</td>\n",
       "      <td>0.735932</td>\n",
       "      <td>0.316228</td>\n",
       "      <td>NaN</td>\n",
       "      <td>0.017728</td>\n",
       "      <td>NaN</td>\n",
       "      <td>-0.112923</td>\n",
       "      <td>NaN</td>\n",
       "      <td>NaN</td>\n",
       "    </tr>\n",
       "    <tr>\n",
       "      <th>E33807</th>\n",
       "      <th>2021-08-31</th>\n",
       "      <td>873.0</td>\n",
       "      <td>127.0</td>\n",
       "      <td>NaN</td>\n",
       "      <td>NaN</td>\n",
       "      <td>NaN</td>\n",
       "      <td>11533000.0</td>\n",
       "      <td>0.8743</td>\n",
       "      <td>NaN</td>\n",
       "      <td>11.0</td>\n",
       "      <td>539.400024</td>\n",
       "      <td>...</td>\n",
       "      <td>NaN</td>\n",
       "      <td>-0.208810</td>\n",
       "      <td>-0.357895</td>\n",
       "      <td>-1.566541</td>\n",
       "      <td>NaN</td>\n",
       "      <td>-0.099997</td>\n",
       "      <td>-0.788661</td>\n",
       "      <td>0.670605</td>\n",
       "      <td>-0.765179</td>\n",
       "      <td>NaN</td>\n",
       "    </tr>\n",
       "  </tbody>\n",
       "</table>\n",
       "<p>69 rows × 317 columns</p>\n",
       "</div>"
      ],
      "text/plain": [
       "                       従業員数  平均臨時雇用人員  平均年齢  平均勤続年数  平均年間給与       所有株式数  \\\n",
       "EDINETコード 会計期間終了日                                                         \n",
       "E00600    2021-08-31  194.0    1103.0   NaN     NaN     NaN   7503000.0   \n",
       "E01064    2021-08-31  793.0     339.0   NaN     NaN     NaN   5080840.0   \n",
       "E02896    2021-08-31  836.0     167.0   NaN     NaN     NaN   3995000.0   \n",
       "E03000    2021-08-31    NaN       NaN   NaN     NaN     NaN   1566000.0   \n",
       "E03240    2021-08-31  776.0    2034.0   NaN     NaN     NaN  15768000.0   \n",
       "...                     ...       ...   ...     ...     ...         ...   \n",
       "E30999    2021-08-31  391.0     117.0   NaN     NaN     NaN   1410195.0   \n",
       "E31743    2021-08-31  213.0       NaN   NaN     NaN     NaN   6204000.0   \n",
       "E32351    2021-08-31    NaN       NaN   NaN     NaN     NaN  15000600.0   \n",
       "E32991    2021-08-31    NaN       NaN   NaN     NaN     NaN   1887000.0   \n",
       "E33807    2021-08-31  873.0     127.0   NaN     NaN     NaN  11533000.0   \n",
       "\n",
       "                      発行済株式（自己株式を除く。）の総数に対する所有株式数の割合  発行済株式総数  連結子会社の数  \\\n",
       "EDINETコード 会計期間終了日                                                        \n",
       "E00600    2021-08-31                          0.3651      NaN      1.0   \n",
       "E01064    2021-08-31                          0.3580      NaN     13.0   \n",
       "E02896    2021-08-31                          0.2993      NaN     13.0   \n",
       "E03000    2021-08-31                          0.7288      NaN      NaN   \n",
       "E03240    2021-08-31                          0.5717      NaN      1.0   \n",
       "...                                              ...      ...      ...   \n",
       "E30999    2021-08-31                          0.8106      NaN      8.0   \n",
       "E31743    2021-08-31                          0.8101      NaN      6.0   \n",
       "E32351    2021-08-31                          0.6882      NaN      NaN   \n",
       "E32991    2021-08-31                          0.8137      NaN      NaN   \n",
       "E33807    2021-08-31                          0.8743      NaN     11.0   \n",
       "\n",
       "                         １株当たり純資産  ...  個別総資本回転率変化率  個別流動比率変化率  個別総資産経常利益率変化率  \\\n",
       "EDINETコード 会計期間終了日                  ...                                          \n",
       "E00600    2021-08-31   776.159973  ...    -0.041419  -0.031348      -1.034627   \n",
       "E01064    2021-08-31   833.440002  ...    -0.367340  -0.201670      -0.209878   \n",
       "E02896    2021-08-31  2385.090088  ...    -0.186260  -0.018069      -0.300669   \n",
       "E03000    2021-08-31          NaN  ...     0.083826   0.608192       0.372346   \n",
       "E03240    2021-08-31   538.940002  ...     0.089014  -0.071607      -1.027249   \n",
       "...                           ...  ...          ...        ...            ...   \n",
       "E30999    2021-08-31   300.040009  ...     0.107690  -0.174402       1.057599   \n",
       "E31743    2021-08-31   939.469971  ...     0.104613   0.143706      -0.364123   \n",
       "E32351    2021-08-31          NaN  ...    -0.049572   0.188060      -4.110205   \n",
       "E32991    2021-08-31          NaN  ...     0.078268   0.087920       0.735932   \n",
       "E33807    2021-08-31   539.400024  ...          NaN  -0.208810      -0.357895   \n",
       "\n",
       "                      個別総資産純利益率変化率  個別総資産親会社株主に帰属する純利益率変化率  個別自己資本変化率  \\\n",
       "EDINETコード 会計期間終了日                                                       \n",
       "E00600    2021-08-31     -0.991558                     NaN   0.004978   \n",
       "E01064    2021-08-31     -0.088593                     NaN   0.079158   \n",
       "E02896    2021-08-31     -0.297597                     NaN   0.045533   \n",
       "E03000    2021-08-31      1.736547                     NaN   0.101320   \n",
       "E03240    2021-08-31     -0.586798                     NaN  -0.123043   \n",
       "...                            ...                     ...        ...   \n",
       "E30999    2021-08-31      1.394464                     NaN   0.214229   \n",
       "E31743    2021-08-31     -0.492359                     NaN   0.054847   \n",
       "E32351    2021-08-31     -7.306115                     NaN   0.436036   \n",
       "E32991    2021-08-31      0.316228                     NaN   0.017728   \n",
       "E33807    2021-08-31     -1.566541                     NaN  -0.099997   \n",
       "\n",
       "                      個別有利子負債変化率  個別負債比率変化率  個別有利子負債比率変化率  税引前純利益次期変化率  \n",
       "EDINETコード 会計期間終了日                                                       \n",
       "E00600    2021-08-31   -0.213054  -0.011529     -0.216952          NaN  \n",
       "E01064    2021-08-31    3.985902   1.527348      3.620178          NaN  \n",
       "E02896    2021-08-31         NaN   0.014883           NaN          NaN  \n",
       "E03000    2021-08-31   -0.682991  -0.501050     -0.712155          NaN  \n",
       "E03240    2021-08-31   -0.292070  -0.030958     -0.192742          NaN  \n",
       "...                          ...        ...           ...          ...  \n",
       "E30999    2021-08-31   -0.246502  -0.230274     -0.379443          NaN  \n",
       "E31743    2021-08-31   -0.062456  -0.193911     -0.111204          NaN  \n",
       "E32351    2021-08-31    2.398380  -0.000907      1.366500          NaN  \n",
       "E32991    2021-08-31         NaN  -0.112923           NaN          NaN  \n",
       "E33807    2021-08-31   -0.788661   0.670605     -0.765179          NaN  \n",
       "\n",
       "[69 rows x 317 columns]"
      ]
     },
     "execution_count": 29,
     "metadata": {},
     "output_type": "execute_result"
    }
   ],
   "source": [
    "df"
   ]
  },
  {
   "cell_type": "markdown",
   "metadata": {
    "colab_type": "text",
    "id": "36cB16JY8rBm"
   },
   "source": [
    "### 次期変化率が欠損値の行を削除します。"
   ]
  },
  {
   "cell_type": "code",
   "execution_count": 30,
   "metadata": {
    "colab": {},
    "colab_type": "code",
    "id": "Ko81Mqnv8vAY"
   },
   "outputs": [],
   "source": [
    "df = df.dropna(subset=[y_column])"
   ]
  },
  {
   "cell_type": "code",
   "execution_count": 31,
   "metadata": {},
   "outputs": [
    {
     "data": {
      "text/html": [
       "<div>\n",
       "<style scoped>\n",
       "    .dataframe tbody tr th:only-of-type {\n",
       "        vertical-align: middle;\n",
       "    }\n",
       "\n",
       "    .dataframe tbody tr th {\n",
       "        vertical-align: top;\n",
       "    }\n",
       "\n",
       "    .dataframe thead th {\n",
       "        text-align: right;\n",
       "    }\n",
       "</style>\n",
       "<table border=\"1\" class=\"dataframe\">\n",
       "  <thead>\n",
       "    <tr style=\"text-align: right;\">\n",
       "      <th></th>\n",
       "      <th></th>\n",
       "      <th>従業員数</th>\n",
       "      <th>平均臨時雇用人員</th>\n",
       "      <th>平均年齢</th>\n",
       "      <th>平均勤続年数</th>\n",
       "      <th>平均年間給与</th>\n",
       "      <th>所有株式数</th>\n",
       "      <th>発行済株式（自己株式を除く。）の総数に対する所有株式数の割合</th>\n",
       "      <th>発行済株式総数</th>\n",
       "      <th>連結子会社の数</th>\n",
       "      <th>１株当たり純資産</th>\n",
       "      <th>...</th>\n",
       "      <th>個別総資本回転率変化率</th>\n",
       "      <th>個別流動比率変化率</th>\n",
       "      <th>個別総資産経常利益率変化率</th>\n",
       "      <th>個別総資産純利益率変化率</th>\n",
       "      <th>個別総資産親会社株主に帰属する純利益率変化率</th>\n",
       "      <th>個別自己資本変化率</th>\n",
       "      <th>個別有利子負債変化率</th>\n",
       "      <th>個別負債比率変化率</th>\n",
       "      <th>個別有利子負債比率変化率</th>\n",
       "      <th>税引前純利益次期変化率</th>\n",
       "    </tr>\n",
       "    <tr>\n",
       "      <th>EDINETコード</th>\n",
       "      <th>会計期間終了日</th>\n",
       "      <th></th>\n",
       "      <th></th>\n",
       "      <th></th>\n",
       "      <th></th>\n",
       "      <th></th>\n",
       "      <th></th>\n",
       "      <th></th>\n",
       "      <th></th>\n",
       "      <th></th>\n",
       "      <th></th>\n",
       "      <th></th>\n",
       "      <th></th>\n",
       "      <th></th>\n",
       "      <th></th>\n",
       "      <th></th>\n",
       "      <th></th>\n",
       "      <th></th>\n",
       "      <th></th>\n",
       "      <th></th>\n",
       "      <th></th>\n",
       "      <th></th>\n",
       "    </tr>\n",
       "  </thead>\n",
       "  <tbody>\n",
       "  </tbody>\n",
       "</table>\n",
       "<p>0 rows × 317 columns</p>\n",
       "</div>"
      ],
      "text/plain": [
       "Empty DataFrame\n",
       "Columns: [従業員数, 平均臨時雇用人員, 平均年齢, 平均勤続年数, 平均年間給与, 所有株式数, 発行済株式（自己株式を除く。）の総数に対する所有株式数の割合, 発行済株式総数, 連結子会社の数, １株当たり純資産, 自己資本比率, 現金及び現金同等物の残高, 資産, 流動資産, 固定資産, 有形固定資産, 無形固定資産, 投資その他の資産, 負債, 流動負債, 短期借入金, 1年内償還予定の社債, 1年内返済予定の長期借入金, 固定負債, 社債, 転換社債型新株予約権付社債, コマーシャル・ペーパー, 長期借入金, 純資産, 株主資本, 資本金, 資本剰余金, 利益剰余金, 自己株式, 評価・換算差額等, 売上高, 売上原価, 売上総利益, 販売費及び一般管理費, 給料及び手当, 減価償却費、販売費及び一般管理費, 研究開発費, 営業利益, 営業外収益, 営業外費用, 支払利息, 経常利益, 特別利益, 特別損失, 税引前純利益, 法人税等, 純利益, 親会社株主に帰属する純利益, 包括利益, １株当たり純利益, 調整1株当たり純利益, １株当たり配当額, 株価収益率, 自己資本利益率, 営業活動によるキャッシュ・フロー, 減価償却費、営業活動によるキャッシュ・フロー, 投資活動によるキャッシュ・フロー, 財務活動によるキャッシュ・フロー, 現金及び現金同等物の増減, 期首期末平均資産, 粗利益, 売上高総利益率, 売上高営業利益率, 売上高経常利益率, 売上高販管費率, 総資本回転率, 流動比率, 総資産経常利益率, 総資産純利益率, 総資産親会社株主に帰属する純利益率, 自己資本, 有利子負債, 負債比率, 有利子負債比率, 従業員数変化率, 平均臨時雇用人員変化率, 平均年齢変化率, 平均勤続年数変化率, 平均年間給与変化率, 所有株式数変化率, 発行済株式（自己株式を除く。）の総数に対する所有株式数の割合変化率, 発行済株式総数変化率, 連結子会社の数変化率, １株当たり純資産変化率, 自己資本比率変化率, 現金及び現金同等物の残高変化率, 資産変化率, 流動資産変化率, 固定資産変化率, 有形固定資産変化率, 無形固定資産変化率, 投資その他の資産変化率, 負債変化率, 流動負債変化率, 短期借入金変化率, ...]\n",
       "Index: []\n",
       "\n",
       "[0 rows x 317 columns]"
      ]
     },
     "execution_count": 31,
     "metadata": {},
     "output_type": "execute_result"
    }
   ],
   "source": [
    "df"
   ]
  },
  {
   "cell_type": "markdown",
   "metadata": {
    "colab_type": "text",
    "id": "E-99jDEphioA"
   },
   "source": [
    "### 比率以外の列は財務分析に使わないので削除します。"
   ]
  },
  {
   "cell_type": "code",
   "execution_count": 32,
   "metadata": {
    "colab": {},
    "colab_type": "code",
    "id": "H7c31yLThrQi"
   },
   "outputs": [],
   "source": [
    "df = df.drop([x for x in df.columns if not x.endswith('率')], axis=1)"
   ]
  },
  {
   "cell_type": "markdown",
   "metadata": {
    "colab_type": "text",
    "id": "Gd8sqlArU1K4"
   },
   "source": [
    "### 会社情報をセットします。"
   ]
  },
  {
   "cell_type": "markdown",
   "metadata": {
    "colab_type": "text",
    "id": "8JLWPeScSYdW"
   },
   "source": [
    "#### 会社情報のCSVを読み込みます。"
   ]
  },
  {
   "cell_type": "code",
   "execution_count": 33,
   "metadata": {
    "colab": {},
    "colab_type": "code",
    "id": "Jk-h7dYRSab3"
   },
   "outputs": [],
   "source": [
    "df会社 = pd.read_csv(\"../data/EDINET/EdinetcodeDlInfo.csv\", encoding='cp932', skiprows=[0])\n",
    "df会社 = df会社.set_index('ＥＤＩＮＥＴコード')"
   ]
  },
  {
   "cell_type": "markdown",
   "metadata": {
    "colab_type": "text",
    "id": "UdiZJXGNScT_"
   },
   "source": [
    "#### 会社名から \"株式会社\" を取り除きます。"
   ]
  },
  {
   "cell_type": "code",
   "execution_count": 34,
   "metadata": {
    "colab": {},
    "colab_type": "code",
    "id": "Gz86b2zNSgPH"
   },
   "outputs": [],
   "source": [
    "df会社['提出者名'] = df会社['提出者名'].apply(lambda x: x.replace('株式会社', '').strip())"
   ]
  },
  {
   "cell_type": "markdown",
   "metadata": {
    "colab_type": "text",
    "id": "saU8pKN3Si0t"
   },
   "source": [
    "#### 会社名と業種をセットします。"
   ]
  },
  {
   "cell_type": "code",
   "execution_count": 35,
   "metadata": {
    "colab": {},
    "colab_type": "code",
    "id": "V01-QmfKSk99"
   },
   "outputs": [],
   "source": [
    "edinet_codes = df.index.map(lambda x: x[0])\n",
    "df['会社名']  = edinet_codes.map(lambda x: df会社.loc[x]['提出者名'])\n",
    "df['業種']    = edinet_codes.map(lambda x: df会社.loc[x]['提出者業種'])"
   ]
  },
  {
   "cell_type": "code",
   "execution_count": 36,
   "metadata": {
    "colab": {},
    "colab_type": "code",
    "id": "7gRHzczJ0TX6"
   },
   "outputs": [],
   "source": [
    "df = df.reset_index()\n",
    "df = df.set_index(['EDINETコード', '会社名', '会計期間終了日'])"
   ]
  },
  {
   "cell_type": "markdown",
   "metadata": {
    "colab_type": "text",
    "id": "E4HRpfd2kuiY"
   },
   "source": [
    "## 出現頻度が高い列を残します。"
   ]
  },
  {
   "cell_type": "markdown",
   "metadata": {
    "colab_type": "text",
    "id": "riZAsS4RCiWo"
   },
   "source": [
    "### 出現頻度の高い順に列名を並べます。"
   ]
  },
  {
   "cell_type": "code",
   "execution_count": 37,
   "metadata": {
    "colab": {},
    "colab_type": "code",
    "id": "Tirw9rBUCtMf"
   },
   "outputs": [
    {
     "data": {
      "text/plain": [
       "[(0, ('自己資本比率', 0)),\n",
       " (1, ('株価収益率', 0)),\n",
       " (2, ('自己資本利益率', 0)),\n",
       " (3, ('売上高総利益率', 0)),\n",
       " (4, ('売上高営業利益率', 0)),\n",
       " (5, ('売上高経常利益率', 0)),\n",
       " (6, ('売上高販管費率', 0)),\n",
       " (7, ('総資本回転率', 0)),\n",
       " (8, ('流動比率', 0)),\n",
       " (9, ('総資産経常利益率', 0))]"
      ]
     },
     "execution_count": 37,
     "metadata": {},
     "output_type": "execute_result"
    }
   ],
   "source": [
    "# 有効値が多い列を得ます。\n",
    "column_cnts = df.notnull().sum().items()\n",
    "freq_column_cnts = sorted(column_cnts, key=lambda x: x[1], reverse=True)\n",
    "\n",
    "list(enumerate(freq_column_cnts[:10]))"
   ]
  },
  {
   "cell_type": "markdown",
   "metadata": {
    "colab_type": "text",
    "id": "34fq9Q1z9L13"
   },
   "source": [
    "### 出現頻度の低い列は削除します。"
   ]
  },
  {
   "cell_type": "code",
   "execution_count": 38,
   "metadata": {
    "colab": {},
    "colab_type": "code",
    "id": "Q5a1iLRo9Src"
   },
   "outputs": [],
   "source": [
    "drop_names = [x[0] for x in freq_column_cnts][200:]\n",
    "df = df.drop(drop_names, axis=1)"
   ]
  },
  {
   "cell_type": "markdown",
   "metadata": {
    "colab_type": "text",
    "id": "2FQbRmtDkkLy"
   },
   "source": [
    "## データを正規化します。"
   ]
  },
  {
   "cell_type": "markdown",
   "metadata": {
    "colab_type": "text",
    "id": "_9Dt05wXFWbf"
   },
   "source": [
    "### 無限大はNaNに置換します。"
   ]
  },
  {
   "cell_type": "code",
   "execution_count": 39,
   "metadata": {
    "colab": {},
    "colab_type": "code",
    "id": "rOR2bGtYFbci"
   },
   "outputs": [],
   "source": [
    "for name in [x for x in df.columns if x != '業種']:\n",
    "    df[name] = df[name].replace([np.inf, -np.inf], np.nan)"
   ]
  },
  {
   "cell_type": "markdown",
   "metadata": {
    "colab_type": "text",
    "id": "I3Gb7ZYRAETu"
   },
   "source": [
    "### 平均0、標準偏差1に正規化します。\n",
    "### 欠損値は0で置き換えます。"
   ]
  },
  {
   "cell_type": "code",
   "execution_count": 40,
   "metadata": {
    "colab": {},
    "colab_type": "code",
    "id": "13sVXCvBd3az"
   },
   "outputs": [],
   "source": [
    "def norm(v):\n",
    "    # 平均\n",
    "    mean = v.mean()\n",
    "\n",
    "    # 標準偏差\n",
    "    std  = v.std()\n",
    "\n",
    "    assert not( np.isnan(mean) or np.isnan(std) or std == 0 )\n",
    "\n",
    "    w = (v - mean) / std\n",
    "\n",
    "    # 欠損値は0で置き換えます。\n",
    "    return w.fillna(0)"
   ]
  },
  {
   "cell_type": "code",
   "execution_count": 41,
   "metadata": {
    "colab": {},
    "colab_type": "code",
    "id": "Riw8vdFutbQO"
   },
   "outputs": [
    {
     "ename": "AssertionError",
     "evalue": "",
     "output_type": "error",
     "traceback": [
      "\u001b[1;31m---------------------------------------------------------------------------\u001b[0m",
      "\u001b[1;31mAssertionError\u001b[0m                            Traceback (most recent call last)",
      "\u001b[1;32m<ipython-input-41-757072e20e2e>\u001b[0m in \u001b[0;36m<module>\u001b[1;34m\u001b[0m\n\u001b[0;32m      1\u001b[0m \u001b[1;32mfor\u001b[0m \u001b[0mname\u001b[0m \u001b[1;32min\u001b[0m \u001b[1;33m[\u001b[0m\u001b[0mx\u001b[0m \u001b[1;32mfor\u001b[0m \u001b[0mx\u001b[0m \u001b[1;32min\u001b[0m \u001b[0mdf\u001b[0m\u001b[1;33m.\u001b[0m\u001b[0mcolumns\u001b[0m \u001b[1;32mif\u001b[0m \u001b[0mx\u001b[0m \u001b[1;33m!=\u001b[0m \u001b[1;34m'業種'\u001b[0m\u001b[1;33m]\u001b[0m\u001b[1;33m:\u001b[0m\u001b[1;33m\u001b[0m\u001b[1;33m\u001b[0m\u001b[0m\n\u001b[1;32m----> 2\u001b[1;33m     \u001b[0mdf\u001b[0m\u001b[1;33m[\u001b[0m\u001b[0mname\u001b[0m\u001b[1;33m]\u001b[0m \u001b[1;33m=\u001b[0m \u001b[0mnorm\u001b[0m\u001b[1;33m(\u001b[0m\u001b[0mdf\u001b[0m\u001b[1;33m[\u001b[0m\u001b[0mname\u001b[0m\u001b[1;33m]\u001b[0m\u001b[1;33m)\u001b[0m\u001b[1;33m\u001b[0m\u001b[1;33m\u001b[0m\u001b[0m\n\u001b[0m",
      "\u001b[1;32m<ipython-input-40-9b7a0f9ba98f>\u001b[0m in \u001b[0;36mnorm\u001b[1;34m(v)\u001b[0m\n\u001b[0;32m      6\u001b[0m     \u001b[0mstd\u001b[0m  \u001b[1;33m=\u001b[0m \u001b[0mv\u001b[0m\u001b[1;33m.\u001b[0m\u001b[0mstd\u001b[0m\u001b[1;33m(\u001b[0m\u001b[1;33m)\u001b[0m\u001b[1;33m\u001b[0m\u001b[1;33m\u001b[0m\u001b[0m\n\u001b[0;32m      7\u001b[0m \u001b[1;33m\u001b[0m\u001b[0m\n\u001b[1;32m----> 8\u001b[1;33m     \u001b[1;32massert\u001b[0m \u001b[1;32mnot\u001b[0m\u001b[1;33m(\u001b[0m \u001b[0mnp\u001b[0m\u001b[1;33m.\u001b[0m\u001b[0misnan\u001b[0m\u001b[1;33m(\u001b[0m\u001b[0mmean\u001b[0m\u001b[1;33m)\u001b[0m \u001b[1;32mor\u001b[0m \u001b[0mnp\u001b[0m\u001b[1;33m.\u001b[0m\u001b[0misnan\u001b[0m\u001b[1;33m(\u001b[0m\u001b[0mstd\u001b[0m\u001b[1;33m)\u001b[0m \u001b[1;32mor\u001b[0m \u001b[0mstd\u001b[0m \u001b[1;33m==\u001b[0m \u001b[1;36m0\u001b[0m \u001b[1;33m)\u001b[0m\u001b[1;33m\u001b[0m\u001b[1;33m\u001b[0m\u001b[0m\n\u001b[0m\u001b[0;32m      9\u001b[0m \u001b[1;33m\u001b[0m\u001b[0m\n\u001b[0;32m     10\u001b[0m     \u001b[0mw\u001b[0m \u001b[1;33m=\u001b[0m \u001b[1;33m(\u001b[0m\u001b[0mv\u001b[0m \u001b[1;33m-\u001b[0m \u001b[0mmean\u001b[0m\u001b[1;33m)\u001b[0m \u001b[1;33m/\u001b[0m \u001b[0mstd\u001b[0m\u001b[1;33m\u001b[0m\u001b[1;33m\u001b[0m\u001b[0m\n",
      "\u001b[1;31mAssertionError\u001b[0m: "
     ]
    }
   ],
   "source": [
    "for name in [x for x in df.columns if x != '業種']:\n",
    "    df[name] = norm(df[name])"
   ]
  },
  {
   "cell_type": "markdown",
   "metadata": {
    "colab_type": "text",
    "id": "cwoUQFOv82a0"
   },
   "source": [
    "### 外れ値をクリップします。"
   ]
  },
  {
   "cell_type": "code",
   "execution_count": null,
   "metadata": {
    "colab": {},
    "colab_type": "code",
    "id": "EegZwKJ58uBS"
   },
   "outputs": [],
   "source": [
    "nrow, ncol = (5, 4)\n",
    "\n",
    "names = [x[0] for x in freq_column_cnts if x[0] != '業種']\n",
    "\n",
    "for label in names[: nrow*ncol]:\n",
    "    tmp = df[label]\n",
    "    df[label] = tmp.clip(lower=tmp.quantile(0.05), upper=tmp.quantile(0.95))\n"
   ]
  },
  {
   "cell_type": "markdown",
   "metadata": {
    "colab_type": "text",
    "id": "z2NS9Umej6VX"
   },
   "source": [
    "## 相関係数が高い列を残します。"
   ]
  },
  {
   "cell_type": "markdown",
   "metadata": {
    "colab_type": "text",
    "id": "vyuzCkraPmAE"
   },
   "source": [
    "### 相関係数を計算します。"
   ]
  },
  {
   "cell_type": "code",
   "execution_count": null,
   "metadata": {
    "colab": {},
    "colab_type": "code",
    "id": "SkLVpR2YPq0C"
   },
   "outputs": [],
   "source": [
    "name_corrs = [ [name, np.corrcoef( np.stack([df[y_column].values, df[name].values]) )[0, 1] ] for name in df.columns if not name in ['業種', y_column] ]\n",
    "\n",
    "# 欠損値は削除します。\n",
    "name_corrs = [ x for x in name_corrs if not np.isnan(x[1])]"
   ]
  },
  {
   "cell_type": "markdown",
   "metadata": {
    "colab_type": "text",
    "id": "IxkwfFmAGp9N"
   },
   "source": [
    "### 相関係数の絶対値の大きい順にソートします。"
   ]
  },
  {
   "cell_type": "code",
   "execution_count": null,
   "metadata": {
    "colab": {},
    "colab_type": "code",
    "id": "-azqpN00RWSP"
   },
   "outputs": [],
   "source": [
    "sorted_name_corrs = sorted(name_corrs, key=lambda x: abs(x[1]), reverse=True)\n",
    "['%d  %.5f %s' % (i, x[1], x[0]) for i, x in enumerate(sorted_name_corrs[:50]) ]"
   ]
  },
  {
   "cell_type": "markdown",
   "metadata": {
    "colab_type": "text",
    "id": "FKIRDGed6of8"
   },
   "source": [
    "### 相関係数が低い列を削除します。"
   ]
  },
  {
   "cell_type": "markdown",
   "metadata": {
    "colab_type": "text",
    "id": "oClKguWzkQ-A"
   },
   "source": [
    "## 結果を保存します。"
   ]
  },
  {
   "cell_type": "code",
   "execution_count": null,
   "metadata": {
    "colab": {},
    "colab_type": "code",
    "id": "z1Q7vRM96sPm"
   },
   "outputs": [],
   "source": [
    "sorted_names = [x[0] for x in sorted_name_corrs]\n",
    "drop_names = sorted_names[50:] \n",
    "df = df.drop(drop_names, axis=1)\n"
   ]
  },
  {
   "cell_type": "markdown",
   "metadata": {
    "colab_type": "text",
    "id": "Mhv6FPK8KJVs"
   },
   "source": [
    "### 業種をダミー変数に変換します。"
   ]
  },
  {
   "cell_type": "code",
   "execution_count": null,
   "metadata": {
    "colab": {},
    "colab_type": "code",
    "id": "jPNsP1E5IFtp"
   },
   "outputs": [],
   "source": [
    "df = pd.get_dummies(df)\n",
    "\n",
    "# '業種'の列がなくなったことを確認\n",
    "assert not '業種' in df.columns"
   ]
  },
  {
   "cell_type": "markdown",
   "metadata": {
    "colab_type": "text",
    "id": "X1wJYldbKf7S"
   },
   "source": [
    "### pickleでファイルに書きます。"
   ]
  },
  {
   "cell_type": "code",
   "execution_count": null,
   "metadata": {
    "colab": {},
    "colab_type": "code",
    "id": "Jx3L8D3yJrum"
   },
   "outputs": [],
   "source": [
    "import pickle\n",
    "\n",
    "data = { 'y_column': y_column, 'data_frame': df  }\n",
    "\n",
    "if   y_column == '売上高次期変化率':\n",
    "    file_name = 'preprocess-uriage.pickle'\n",
    "elif y_column == '営業利益次期変化率':\n",
    "    file_name = 'preprocess-eigyo.pickle'\n",
    "elif y_column == '経常利益次期変化率':\n",
    "    file_name = 'preprocess-keijo.pickle'\n",
    "elif y_column == '税引前純利益次期変化率':\n",
    "    file_name = 'preprocess-jun.pickle'\n",
    "else:\n",
    "    assert False\n",
    "\n",
    "with open(file_name, 'wb') as f:\n",
    "    pickle.dump(data, f)"
   ]
  },
  {
   "cell_type": "markdown",
   "metadata": {
    "colab_type": "text",
    "id": "KmUEAB-iKpLA"
   },
   "source": [
    "#### <font color=\"red\">パソコンにファイルをダウンロードする場合は以下のコメントをはずしてください。</font>"
   ]
  },
  {
   "cell_type": "code",
   "execution_count": null,
   "metadata": {
    "colab": {},
    "colab_type": "code",
    "id": "6GrTc5FCKrjV"
   },
   "outputs": [],
   "source": [
    "# from google.colab import files\n",
    "# from pathlib import Path\n",
    "\n",
    "# # pickleファイルに対し\n",
    "# for path_obj in Path().glob('*.pickle'):\n",
    "#     print(path_obj)\n",
    "\n",
    "#     # ファイルをダウンロードします。\n",
    "#     files.download(str(path_obj))"
   ]
  }
 ],
 "metadata": {
  "colab": {
   "authorship_tag": "ABX9TyOiDiEQc8zRRaI2SfP9xbby",
   "collapsed_sections": [],
   "include_colab_link": true,
   "machine_shape": "hm",
   "name": "preprocess.ipynb",
   "provenance": [],
   "toc_visible": true
  },
  "kernelspec": {
   "display_name": "Python 3",
   "language": "python",
   "name": "python3"
  },
  "language_info": {
   "codemirror_mode": {
    "name": "ipython",
    "version": 3
   },
   "file_extension": ".py",
   "mimetype": "text/x-python",
   "name": "python",
   "nbconvert_exporter": "python",
   "pygments_lexer": "ipython3",
   "version": "3.8.5"
  }
 },
 "nbformat": 4,
 "nbformat_minor": 1
}
