{
  "nbformat": 4,
  "nbformat_minor": 0,
  "metadata": {
    "colab": {
      "name": "make_summary_012.ipynb",
      "provenance": [],
      "collapsed_sections": [],
      "include_colab_link": true
    },
    "kernelspec": {
      "name": "python3",
      "display_name": "Python 3"
    }
  },
  "cells": [
    {
      "cell_type": "markdown",
      "metadata": {
        "id": "view-in-github",
        "colab_type": "text"
      },
      "source": [
        "<a href=\"https://colab.research.google.com/github/teatime77/xbrl-reader/blob/master/notebook/make_summary_012.ipynb\" target=\"_parent\"><img src=\"https://colab.research.google.com/assets/colab-badge.svg\" alt=\"Open In Colab\"/></a>"
      ]
    },
    {
      "cell_type": "markdown",
      "metadata": {
        "id": "xIZ5nYryTdwZ",
        "colab_type": "text"
      },
      "source": [
        "# summary-0.csv , summary-1.csv, summary-2.csv の作成処理"
      ]
    },
    {
      "cell_type": "markdown",
      "metadata": {
        "id": "MC1QkhbNTfwn",
        "colab_type": "text"
      },
      "source": [
        "#### XMLファイルのパーサーのライブラリをインストールします。"
      ]
    },
    {
      "cell_type": "code",
      "metadata": {
        "id": "_iGBBS2CTiS-",
        "colab_type": "code",
        "colab": {}
      },
      "source": [
        "! pip install lxml"
      ],
      "execution_count": 0,
      "outputs": []
    },
    {
      "cell_type": "markdown",
      "metadata": {
        "id": "bM2ZvknsTi2u",
        "colab_type": "text"
      },
      "source": [
        "#### アプリをGitHubからダウンロードします。"
      ]
    },
    {
      "cell_type": "code",
      "metadata": {
        "id": "roBrWHE3TjFA",
        "colab_type": "code",
        "colab": {}
      },
      "source": [
        "! git clone https://github.com/teatime77/xbrl-reader.git\n",
        "\n",
        "# ダウンロードしたフォルダーに移動します。\n",
        "%cd xbrl-reader"
      ],
      "execution_count": 0,
      "outputs": []
    },
    {
      "cell_type": "markdown",
      "metadata": {
        "id": "Wo2UuwoPTj6Y",
        "colab_type": "text"
      },
      "source": [
        "#### EDINETのタクソノミと会社情報のファイルをダウンロードします。"
      ]
    },
    {
      "cell_type": "code",
      "metadata": {
        "id": "1FC1VIjRTkGK",
        "colab_type": "code",
        "colab": {}
      },
      "source": [
        "! wget http://lkzf.info/xbrl/data/data-2019-11-01.zip\n",
        "\n",
        "# 解凍します\n",
        "! unzip data-2019-11-01.zip"
      ],
      "execution_count": 0,
      "outputs": []
    },
    {
      "cell_type": "markdown",
      "metadata": {
        "id": "qgIDWkKWTkX_",
        "colab_type": "text"
      },
      "source": [
        "#### XBRLファイルを抜き出したファイルをダウンロードします。\n",
        "#### 処理に5分くらいかかります。"
      ]
    },
    {
      "cell_type": "code",
      "metadata": {
        "id": "jzFoqQgVTkjX",
        "colab_type": "code",
        "colab": {}
      },
      "source": [
        "%pushd zip/extract\n",
        "! wget http://lkzf.info/xbrl/data/extract/extract-0.tar\n",
        "! wget http://lkzf.info/xbrl/data/extract/extract-1.tar\n",
        "! wget http://lkzf.info/xbrl/data/extract/extract-2.tar\n",
        "! wget http://lkzf.info/xbrl/data/extract/extract-3.tar\n",
        "! wget http://lkzf.info/xbrl/data/extract/extract-4.tar\n",
        "! wget http://lkzf.info/xbrl/data/extract/extract-5.tar\n",
        "! wget http://lkzf.info/xbrl/data/extract/extract-6.tar\n",
        "! wget http://lkzf.info/xbrl/data/extract/extract-7.tar\n",
        "\n",
        "# 展開します\n",
        "! tar xvf extract-0.tar\n",
        "! tar xvf extract-1.tar\n",
        "! tar xvf extract-2.tar\n",
        "! tar xvf extract-3.tar\n",
        "! tar xvf extract-4.tar\n",
        "! tar xvf extract-5.tar\n",
        "! tar xvf extract-6.tar\n",
        "! tar xvf extract-7.tar\n",
        "%popd"
      ],
      "execution_count": 0,
      "outputs": []
    },
    {
      "cell_type": "markdown",
      "metadata": {
        "id": "82B_9Ov_VCZy",
        "colab_type": "text"
      },
      "source": [
        "#### XBRLファイルから summary-0.csv, summary-1.csv, summary-2.csv を作ります。\n",
        "#### この処理は20分くらいかかります。"
      ]
    },
    {
      "cell_type": "code",
      "metadata": {
        "id": "kg7U33a_TlDv",
        "colab_type": "code",
        "colab": {}
      },
      "source": [
        "! python python/summary.py"
      ],
      "execution_count": 0,
      "outputs": []
    },
    {
      "cell_type": "markdown",
      "metadata": {
        "id": "kSRRB_bVqnXM",
        "colab_type": "text"
      },
      "source": [
        "結果のCSVファイルは以下に書かれます。\n",
        "* python/data/summary-0.csv\n",
        "* python/data/summary-1.csv\n",
        "* python/data/summary-2.csv\n",
        "\n",
        "以下のファイルには報告書とコンテキストごとに現れた項目の数が書かれています。\n",
        "* python/data/stats.txt\n"
      ]
    },
    {
      "cell_type": "markdown",
      "metadata": {
        "id": "4cSwu1OXzoIL",
        "colab_type": "text"
      },
      "source": [
        "#### 結果を保存します。\n",
        "#### パソコンにダウンロードする場合は、以下のコードのコメントをはずしてください。"
      ]
    },
    {
      "cell_type": "code",
      "metadata": {
        "id": "EmbT2IGnzv0_",
        "colab_type": "code",
        "colab": {}
      },
      "source": [
        "# from google.colab import files\n",
        "\n",
        "# files.download(\"python/data/summary-0.csv\")\n",
        "# files.download(\"python/data/summary-1.csv\")\n",
        "# files.download(\"python/data/summary-2.csv\")\n",
        "# files.download(\"python/data/stats.txt\")"
      ],
      "execution_count": 0,
      "outputs": []
    }
  ]
}